{
  "nbformat": 4,
  "nbformat_minor": 0,
  "metadata": {
    "kernelspec": {
      "name": "python3",
      "display_name": "Python 3"
    },
    "colab": {
      "name": "Copy of Copy of W3. Merging and Joining in Python.ipynb",
      "provenance": [],
      "collapsed_sections": [
        "K1VdYJJ1S6iO",
        "p-nMMNZkS6iu",
        "7jbHLNWJS6iu",
        "qFwsma6tS6jC",
        "CPb3I6u1S6jJ",
        "l_hXvqvdS6jO",
        "NegFX-rjS6jY"
      ],
      "include_colab_link": true
    }
  },
  "cells": [
    {
      "cell_type": "markdown",
      "metadata": {
        "id": "view-in-github",
        "colab_type": "text"
      },
      "source": [
        "<a href=\"https://colab.research.google.com/github/piacarrere/Workshops/blob/main/Copy_of_Copy_of_W3_Merging_and_Joining_in_Python.ipynb\" target=\"_parent\"><img src=\"https://colab.research.google.com/assets/colab-badge.svg\" alt=\"Open In Colab\"/></a>"
      ]
    },
    {
      "cell_type": "markdown",
      "metadata": {
        "id": "6fah6VTyS6hd"
      },
      "source": [
        "## Quantitative Methods 2:  Data Science and Visualisation\n",
        "## Workshop 3: Merging and Joining Data in Python\n",
        "\n",
        "Sometimes, we will want to combine data from different sources about the same subject - perhaps we want to compare the GDP in a country with life expectancy, or the proportion of free schools meals with the level of unemployment.\n",
        "\n",
        "### Aims\n",
        "- Understand joins\n",
        "- Work with joining dataframes in Pandas\n",
        "- Create your own examples"
      ]
    },
    {
      "cell_type": "markdown",
      "metadata": {
        "id": "XdibOrmwS6he"
      },
      "source": [
        "## Downloading the Data\n",
        "Let's grab the data we will need this week from our course website and save it into our data folder. If you've not already created a data folder then do so using the following command. \n",
        "\n",
        "Don't worry if it generates an error, that means you've already got a data folder.\n"
      ]
    },
    {
      "cell_type": "code",
      "metadata": {
        "id": "I50UwMZMS6hf"
      },
      "source": [
        "!mkdir data"
      ],
      "execution_count": null,
      "outputs": []
    },
    {
      "cell_type": "code",
      "metadata": {
        "id": "gyAVkq3xS6hj",
        "colab": {
          "base_uri": "https://localhost:8080/"
        },
        "outputId": "786972fb-9cb2-4e68-a7a7-2538c29da342"
      },
      "source": [
        "!mkdir data/wk3\n",
        "!curl https://s3.eu-west-2.amazonaws.com/qm2/wk3/UN_Life_all.csv -o ./data/wk3/UN_Life_all.csv\n",
        "!curl https://s3.eu-west-2.amazonaws.com/qm2/wk3/UN_Cities_1214_country.csv -o ./data/wk3/UN_Cities_1214_country.csv\n",
        "!curl https://s3.eu-west-2.amazonaws.com/qm2/wk3/UN_Cities_1214_population.csv -o ./data/wk3/UN_Cities_1214_population.csv"
      ],
      "execution_count": null,
      "outputs": [
        {
          "output_type": "stream",
          "text": [
            "  % Total    % Received % Xferd  Average Speed   Time    Time     Time  Current\n",
            "                                 Dload  Upload   Total   Spent    Left  Speed\n",
            "100  354k  100  354k    0     0   161k      0  0:00:02  0:00:02 --:--:--  161k\n",
            "  % Total    % Received % Xferd  Average Speed   Time    Time     Time  Current\n",
            "                                 Dload  Upload   Total   Spent    Left  Speed\n",
            "100 31445  100 31445    0     0  24604      0  0:00:01  0:00:01 --:--:-- 24604\n",
            "  % Total    % Received % Xferd  Average Speed   Time    Time     Time  Current\n",
            "                                 Dload  Upload   Total   Spent    Left  Speed\n",
            "100  373k  100  373k    0     0   180k      0  0:00:02  0:00:02 --:--:--  180k\n"
          ],
          "name": "stdout"
        }
      ]
    },
    {
      "cell_type": "markdown",
      "metadata": {
        "id": "tuOYWYbUS6hm"
      },
      "source": [
        "## Joining Instructions\n",
        "\n",
        "Joins are the combination of different datasets, and are common in relational databases as a way of performing queries. There are lots of examples of why and when we might want to do this, but most start with two tables of data. We're going to start with some data we've generated.\n",
        "\n",
        "I'm going to go back and work with fake data for a while, because it's clean and small and we can see what's going on - when we work with real data, we have to take great care that the data is clean, the indices match, and so on."
      ]
    },
    {
      "cell_type": "code",
      "metadata": {
        "id": "UdRoLsYhS6hm"
      },
      "source": [
        "import matplotlib.pyplot as plt\n",
        "import pandas as pd\n",
        "import numpy as np\n",
        "import random\n",
        "%matplotlib inline\n",
        "plt.style.use('ggplot')\n"
      ],
      "execution_count": null,
      "outputs": []
    },
    {
      "cell_type": "markdown",
      "metadata": {
        "id": "LOltFFwmS6hp"
      },
      "source": [
        "Let's create dataframes which represent fictitious values associated with people. Let's assume our data is anonymised because we're ethical researchers and don't want information about real people leaking out."
      ]
    },
    {
      "cell_type": "code",
      "metadata": {
        "id": "RnB2LIRvS6hp"
      },
      "source": [
        "people1 = pd.DataFrame(5+np.random.randn(5, 5))\n",
        "people1.columns = ['units of alcohol drunk','cigarettes smoked','sleep per night','height','BMI']"
      ],
      "execution_count": null,
      "outputs": []
    },
    {
      "cell_type": "code",
      "metadata": {
        "id": "CKiFh3BkS6hs",
        "colab": {
          "base_uri": "https://localhost:8080/",
          "height": 204
        },
        "outputId": "8a692e4d-f312-4df2-90d5-2b00eb0bc2c3"
      },
      "source": [
        "people1"
      ],
      "execution_count": null,
      "outputs": [
        {
          "output_type": "execute_result",
          "data": {
            "text/html": [
              "<div>\n",
              "<style scoped>\n",
              "    .dataframe tbody tr th:only-of-type {\n",
              "        vertical-align: middle;\n",
              "    }\n",
              "\n",
              "    .dataframe tbody tr th {\n",
              "        vertical-align: top;\n",
              "    }\n",
              "\n",
              "    .dataframe thead th {\n",
              "        text-align: right;\n",
              "    }\n",
              "</style>\n",
              "<table border=\"1\" class=\"dataframe\">\n",
              "  <thead>\n",
              "    <tr style=\"text-align: right;\">\n",
              "      <th></th>\n",
              "      <th>units of alcohol drunk</th>\n",
              "      <th>cigarettes smoked</th>\n",
              "      <th>sleep per night</th>\n",
              "      <th>height</th>\n",
              "      <th>BMI</th>\n",
              "    </tr>\n",
              "  </thead>\n",
              "  <tbody>\n",
              "    <tr>\n",
              "      <th>0</th>\n",
              "      <td>4.904440</td>\n",
              "      <td>6.390541</td>\n",
              "      <td>5.058321</td>\n",
              "      <td>5.776066</td>\n",
              "      <td>4.572693</td>\n",
              "    </tr>\n",
              "    <tr>\n",
              "      <th>1</th>\n",
              "      <td>4.951654</td>\n",
              "      <td>4.724634</td>\n",
              "      <td>6.231706</td>\n",
              "      <td>5.223239</td>\n",
              "      <td>6.787844</td>\n",
              "    </tr>\n",
              "    <tr>\n",
              "      <th>2</th>\n",
              "      <td>5.334202</td>\n",
              "      <td>5.546799</td>\n",
              "      <td>4.115599</td>\n",
              "      <td>4.824924</td>\n",
              "      <td>5.481775</td>\n",
              "    </tr>\n",
              "    <tr>\n",
              "      <th>3</th>\n",
              "      <td>4.011872</td>\n",
              "      <td>6.298044</td>\n",
              "      <td>5.693056</td>\n",
              "      <td>3.778525</td>\n",
              "      <td>6.667307</td>\n",
              "    </tr>\n",
              "    <tr>\n",
              "      <th>4</th>\n",
              "      <td>3.456810</td>\n",
              "      <td>5.501080</td>\n",
              "      <td>4.958484</td>\n",
              "      <td>4.357861</td>\n",
              "      <td>4.767056</td>\n",
              "    </tr>\n",
              "  </tbody>\n",
              "</table>\n",
              "</div>"
            ],
            "text/plain": [
              "   units of alcohol drunk  cigarettes smoked  ...    height       BMI\n",
              "0                4.904440           6.390541  ...  5.776066  4.572693\n",
              "1                4.951654           4.724634  ...  5.223239  6.787844\n",
              "2                5.334202           5.546799  ...  4.824924  5.481775\n",
              "3                4.011872           6.298044  ...  3.778525  6.667307\n",
              "4                3.456810           5.501080  ...  4.357861  4.767056\n",
              "\n",
              "[5 rows x 5 columns]"
            ]
          },
          "metadata": {
            "tags": []
          },
          "execution_count": 5
        }
      ]
    },
    {
      "cell_type": "code",
      "metadata": {
        "id": "fjUbAFEFS6hv"
      },
      "source": [
        "people2 = pd.DataFrame(5+np.random.randn(3, 5))\n",
        "people2.columns = ['units of alcohol drunk','cigarettes smoked','sleep per night','height','BMI']"
      ],
      "execution_count": null,
      "outputs": []
    },
    {
      "cell_type": "code",
      "metadata": {
        "id": "VpCJny82S6hy",
        "colab": {
          "base_uri": "https://localhost:8080/",
          "height": 142
        },
        "outputId": "71ca9b9d-89cc-49cb-f0b6-6299259168c3"
      },
      "source": [
        "people2"
      ],
      "execution_count": null,
      "outputs": [
        {
          "output_type": "execute_result",
          "data": {
            "text/html": [
              "<div>\n",
              "<style scoped>\n",
              "    .dataframe tbody tr th:only-of-type {\n",
              "        vertical-align: middle;\n",
              "    }\n",
              "\n",
              "    .dataframe tbody tr th {\n",
              "        vertical-align: top;\n",
              "    }\n",
              "\n",
              "    .dataframe thead th {\n",
              "        text-align: right;\n",
              "    }\n",
              "</style>\n",
              "<table border=\"1\" class=\"dataframe\">\n",
              "  <thead>\n",
              "    <tr style=\"text-align: right;\">\n",
              "      <th></th>\n",
              "      <th>units of alcohol drunk</th>\n",
              "      <th>cigarettes smoked</th>\n",
              "      <th>sleep per night</th>\n",
              "      <th>height</th>\n",
              "      <th>BMI</th>\n",
              "    </tr>\n",
              "  </thead>\n",
              "  <tbody>\n",
              "    <tr>\n",
              "      <th>0</th>\n",
              "      <td>4.795990</td>\n",
              "      <td>4.726193</td>\n",
              "      <td>5.392270</td>\n",
              "      <td>6.173100</td>\n",
              "      <td>5.066377</td>\n",
              "    </tr>\n",
              "    <tr>\n",
              "      <th>1</th>\n",
              "      <td>5.324190</td>\n",
              "      <td>4.998459</td>\n",
              "      <td>5.119897</td>\n",
              "      <td>4.085641</td>\n",
              "      <td>4.016400</td>\n",
              "    </tr>\n",
              "    <tr>\n",
              "      <th>2</th>\n",
              "      <td>5.930985</td>\n",
              "      <td>4.905274</td>\n",
              "      <td>4.622421</td>\n",
              "      <td>4.307857</td>\n",
              "      <td>4.307165</td>\n",
              "    </tr>\n",
              "  </tbody>\n",
              "</table>\n",
              "</div>"
            ],
            "text/plain": [
              "   units of alcohol drunk  cigarettes smoked  ...    height       BMI\n",
              "0                4.795990           4.726193  ...  6.173100  5.066377\n",
              "1                5.324190           4.998459  ...  4.085641  4.016400\n",
              "2                5.930985           4.905274  ...  4.307857  4.307165\n",
              "\n",
              "[3 rows x 5 columns]"
            ]
          },
          "metadata": {
            "tags": []
          },
          "execution_count": 7
        }
      ]
    },
    {
      "cell_type": "markdown",
      "metadata": {
        "id": "DJh0iZU3S6h1"
      },
      "source": [
        "# Adding new observations\n",
        "\n",
        "It looks as if we have some data about people (although we've just made it up), and a set of common measurements. It would be nice to have all of this in one place, so let's *merge* them into one dataframe. We'll use the *concat* command, which is short for *concatenate*, or \"chain together\"."
      ]
    },
    {
      "cell_type": "code",
      "metadata": {
        "id": "FLd5xBDeS6h1"
      },
      "source": [
        "people3 = pd.concat([people1,people2])"
      ],
      "execution_count": null,
      "outputs": []
    },
    {
      "cell_type": "code",
      "metadata": {
        "id": "hKOqzkyJS6h3"
      },
      "source": [
        "people3"
      ],
      "execution_count": null,
      "outputs": []
    },
    {
      "cell_type": "markdown",
      "metadata": {
        "id": "lv4myEKXS6h6"
      },
      "source": [
        "### What is the problem above? "
      ]
    },
    {
      "cell_type": "code",
      "metadata": {
        "id": "aPkZTYWGS6h6"
      },
      "source": [
        "people4 = pd.concat([people1,people2], ignore_index=True)"
      ],
      "execution_count": null,
      "outputs": []
    },
    {
      "cell_type": "code",
      "metadata": {
        "id": "1TEx5aX3S6h9"
      },
      "source": [
        "people4"
      ],
      "execution_count": null,
      "outputs": []
    },
    {
      "cell_type": "markdown",
      "metadata": {
        "id": "caWsFFxQS6h_"
      },
      "source": [
        "`ignore_index` is very useful when we want a new DataFrame which only contains data from other DataFrames, but unrelated otherwise."
      ]
    },
    {
      "cell_type": "markdown",
      "metadata": {
        "id": "wTxlLjkOS6iA"
      },
      "source": [
        "## Data with a unique index: adding new observations\n",
        "\n",
        "Let's now examine data where the elements of study are not anonymous. Let's consider that we have some city data. If we have city names (or equivalent) in the index column, simply concatenating them would be fine, because the names would not repeat in the way the index has above."
      ]
    },
    {
      "cell_type": "code",
      "metadata": {
        "id": "tqM3BIJSS6iA"
      },
      "source": [
        "df1 = pd.DataFrame(5+np.random.randn(5, 5))\n",
        "df1.columns = ['area','population','mean temperature','elevation','annual rainfall']\n",
        "df1.index = ['London', 'Paris', 'Beijing', 'Medellin', 'Port Elizabeth']"
      ],
      "execution_count": null,
      "outputs": []
    },
    {
      "cell_type": "code",
      "metadata": {
        "id": "UCiCbYc2S6iC",
        "colab": {
          "base_uri": "https://localhost:8080/",
          "height": 204
        },
        "outputId": "03841feb-f188-4d13-8716-df8e14039d13"
      },
      "source": [
        "df1"
      ],
      "execution_count": null,
      "outputs": [
        {
          "output_type": "execute_result",
          "data": {
            "text/html": [
              "<div>\n",
              "<style scoped>\n",
              "    .dataframe tbody tr th:only-of-type {\n",
              "        vertical-align: middle;\n",
              "    }\n",
              "\n",
              "    .dataframe tbody tr th {\n",
              "        vertical-align: top;\n",
              "    }\n",
              "\n",
              "    .dataframe thead th {\n",
              "        text-align: right;\n",
              "    }\n",
              "</style>\n",
              "<table border=\"1\" class=\"dataframe\">\n",
              "  <thead>\n",
              "    <tr style=\"text-align: right;\">\n",
              "      <th></th>\n",
              "      <th>area</th>\n",
              "      <th>population</th>\n",
              "      <th>mean temperature</th>\n",
              "      <th>elevation</th>\n",
              "      <th>annual rainfall</th>\n",
              "    </tr>\n",
              "  </thead>\n",
              "  <tbody>\n",
              "    <tr>\n",
              "      <th>London</th>\n",
              "      <td>3.216893</td>\n",
              "      <td>6.276101</td>\n",
              "      <td>4.443587</td>\n",
              "      <td>6.038096</td>\n",
              "      <td>2.953595</td>\n",
              "    </tr>\n",
              "    <tr>\n",
              "      <th>Paris</th>\n",
              "      <td>3.984280</td>\n",
              "      <td>5.559348</td>\n",
              "      <td>3.709400</td>\n",
              "      <td>5.719207</td>\n",
              "      <td>6.326671</td>\n",
              "    </tr>\n",
              "    <tr>\n",
              "      <th>Beijing</th>\n",
              "      <td>3.766676</td>\n",
              "      <td>5.777176</td>\n",
              "      <td>4.519361</td>\n",
              "      <td>3.011001</td>\n",
              "      <td>4.160469</td>\n",
              "    </tr>\n",
              "    <tr>\n",
              "      <th>Medellin</th>\n",
              "      <td>4.047565</td>\n",
              "      <td>3.918493</td>\n",
              "      <td>5.591387</td>\n",
              "      <td>6.364804</td>\n",
              "      <td>4.265662</td>\n",
              "    </tr>\n",
              "    <tr>\n",
              "      <th>Port Elizabeth</th>\n",
              "      <td>3.705394</td>\n",
              "      <td>6.070595</td>\n",
              "      <td>4.968840</td>\n",
              "      <td>5.977597</td>\n",
              "      <td>7.528395</td>\n",
              "    </tr>\n",
              "  </tbody>\n",
              "</table>\n",
              "</div>"
            ],
            "text/plain": [
              "                    area  population  ...  elevation  annual rainfall\n",
              "London          3.216893    6.276101  ...   6.038096         2.953595\n",
              "Paris           3.984280    5.559348  ...   5.719207         6.326671\n",
              "Beijing         3.766676    5.777176  ...   3.011001         4.160469\n",
              "Medellin        4.047565    3.918493  ...   6.364804         4.265662\n",
              "Port Elizabeth  3.705394    6.070595  ...   5.977597         7.528395\n",
              "\n",
              "[5 rows x 5 columns]"
            ]
          },
          "metadata": {
            "tags": []
          },
          "execution_count": 10
        }
      ]
    },
    {
      "cell_type": "code",
      "metadata": {
        "id": "q2MivfZPS6iF"
      },
      "source": [
        "df2 = pd.DataFrame(5+np.random.randn(3, 5))\n",
        "df2.columns = ['area','population','mean temperature','elevation','annual rainfall']\n",
        "df2.index = ['Mumbai', 'Sydney', 'Boston']"
      ],
      "execution_count": null,
      "outputs": []
    },
    {
      "cell_type": "code",
      "metadata": {
        "id": "57DmpIiAS6iH",
        "colab": {
          "base_uri": "https://localhost:8080/",
          "height": 142
        },
        "outputId": "8b9af968-a04d-473c-a18a-f82d663330f2"
      },
      "source": [
        "df2"
      ],
      "execution_count": null,
      "outputs": [
        {
          "output_type": "execute_result",
          "data": {
            "text/html": [
              "<div>\n",
              "<style scoped>\n",
              "    .dataframe tbody tr th:only-of-type {\n",
              "        vertical-align: middle;\n",
              "    }\n",
              "\n",
              "    .dataframe tbody tr th {\n",
              "        vertical-align: top;\n",
              "    }\n",
              "\n",
              "    .dataframe thead th {\n",
              "        text-align: right;\n",
              "    }\n",
              "</style>\n",
              "<table border=\"1\" class=\"dataframe\">\n",
              "  <thead>\n",
              "    <tr style=\"text-align: right;\">\n",
              "      <th></th>\n",
              "      <th>area</th>\n",
              "      <th>population</th>\n",
              "      <th>mean temperature</th>\n",
              "      <th>elevation</th>\n",
              "      <th>annual rainfall</th>\n",
              "    </tr>\n",
              "  </thead>\n",
              "  <tbody>\n",
              "    <tr>\n",
              "      <th>Mumbai</th>\n",
              "      <td>5.490139</td>\n",
              "      <td>3.429448</td>\n",
              "      <td>4.767525</td>\n",
              "      <td>7.002838</td>\n",
              "      <td>6.006320</td>\n",
              "    </tr>\n",
              "    <tr>\n",
              "      <th>Sydney</th>\n",
              "      <td>4.732194</td>\n",
              "      <td>7.140077</td>\n",
              "      <td>3.834323</td>\n",
              "      <td>4.742614</td>\n",
              "      <td>4.668738</td>\n",
              "    </tr>\n",
              "    <tr>\n",
              "      <th>Boston</th>\n",
              "      <td>5.641833</td>\n",
              "      <td>4.432620</td>\n",
              "      <td>5.857284</td>\n",
              "      <td>4.347249</td>\n",
              "      <td>4.872124</td>\n",
              "    </tr>\n",
              "  </tbody>\n",
              "</table>\n",
              "</div>"
            ],
            "text/plain": [
              "            area  population  mean temperature  elevation  annual rainfall\n",
              "Mumbai  5.490139    3.429448          4.767525   7.002838         6.006320\n",
              "Sydney  4.732194    7.140077          3.834323   4.742614         4.668738\n",
              "Boston  5.641833    4.432620          5.857284   4.347249         4.872124"
            ]
          },
          "metadata": {
            "tags": []
          },
          "execution_count": 12
        }
      ]
    },
    {
      "cell_type": "code",
      "metadata": {
        "id": "3kxmpWRDS6iK"
      },
      "source": [
        "df3 = pd.concat([df1,df2])"
      ],
      "execution_count": null,
      "outputs": []
    },
    {
      "cell_type": "code",
      "metadata": {
        "id": "5qSJVJEdS6iM",
        "colab": {
          "base_uri": "https://localhost:8080/",
          "height": 297
        },
        "outputId": "ff0556d8-b467-4727-a5db-1a1c919ab458"
      },
      "source": [
        "df3"
      ],
      "execution_count": null,
      "outputs": [
        {
          "output_type": "execute_result",
          "data": {
            "text/html": [
              "<div>\n",
              "<style scoped>\n",
              "    .dataframe tbody tr th:only-of-type {\n",
              "        vertical-align: middle;\n",
              "    }\n",
              "\n",
              "    .dataframe tbody tr th {\n",
              "        vertical-align: top;\n",
              "    }\n",
              "\n",
              "    .dataframe thead th {\n",
              "        text-align: right;\n",
              "    }\n",
              "</style>\n",
              "<table border=\"1\" class=\"dataframe\">\n",
              "  <thead>\n",
              "    <tr style=\"text-align: right;\">\n",
              "      <th></th>\n",
              "      <th>area</th>\n",
              "      <th>population</th>\n",
              "      <th>mean temperature</th>\n",
              "      <th>elevation</th>\n",
              "      <th>annual rainfall</th>\n",
              "    </tr>\n",
              "  </thead>\n",
              "  <tbody>\n",
              "    <tr>\n",
              "      <th>London</th>\n",
              "      <td>3.216893</td>\n",
              "      <td>6.276101</td>\n",
              "      <td>4.443587</td>\n",
              "      <td>6.038096</td>\n",
              "      <td>2.953595</td>\n",
              "    </tr>\n",
              "    <tr>\n",
              "      <th>Paris</th>\n",
              "      <td>3.984280</td>\n",
              "      <td>5.559348</td>\n",
              "      <td>3.709400</td>\n",
              "      <td>5.719207</td>\n",
              "      <td>6.326671</td>\n",
              "    </tr>\n",
              "    <tr>\n",
              "      <th>Beijing</th>\n",
              "      <td>3.766676</td>\n",
              "      <td>5.777176</td>\n",
              "      <td>4.519361</td>\n",
              "      <td>3.011001</td>\n",
              "      <td>4.160469</td>\n",
              "    </tr>\n",
              "    <tr>\n",
              "      <th>Medellin</th>\n",
              "      <td>4.047565</td>\n",
              "      <td>3.918493</td>\n",
              "      <td>5.591387</td>\n",
              "      <td>6.364804</td>\n",
              "      <td>4.265662</td>\n",
              "    </tr>\n",
              "    <tr>\n",
              "      <th>Port Elizabeth</th>\n",
              "      <td>3.705394</td>\n",
              "      <td>6.070595</td>\n",
              "      <td>4.968840</td>\n",
              "      <td>5.977597</td>\n",
              "      <td>7.528395</td>\n",
              "    </tr>\n",
              "    <tr>\n",
              "      <th>Mumbai</th>\n",
              "      <td>5.490139</td>\n",
              "      <td>3.429448</td>\n",
              "      <td>4.767525</td>\n",
              "      <td>7.002838</td>\n",
              "      <td>6.006320</td>\n",
              "    </tr>\n",
              "    <tr>\n",
              "      <th>Sydney</th>\n",
              "      <td>4.732194</td>\n",
              "      <td>7.140077</td>\n",
              "      <td>3.834323</td>\n",
              "      <td>4.742614</td>\n",
              "      <td>4.668738</td>\n",
              "    </tr>\n",
              "    <tr>\n",
              "      <th>Boston</th>\n",
              "      <td>5.641833</td>\n",
              "      <td>4.432620</td>\n",
              "      <td>5.857284</td>\n",
              "      <td>4.347249</td>\n",
              "      <td>4.872124</td>\n",
              "    </tr>\n",
              "  </tbody>\n",
              "</table>\n",
              "</div>"
            ],
            "text/plain": [
              "                    area  population  ...  elevation  annual rainfall\n",
              "London          3.216893    6.276101  ...   6.038096         2.953595\n",
              "Paris           3.984280    5.559348  ...   5.719207         6.326671\n",
              "Beijing         3.766676    5.777176  ...   3.011001         4.160469\n",
              "Medellin        4.047565    3.918493  ...   6.364804         4.265662\n",
              "Port Elizabeth  3.705394    6.070595  ...   5.977597         7.528395\n",
              "Mumbai          5.490139    3.429448  ...   7.002838         6.006320\n",
              "Sydney          4.732194    7.140077  ...   4.742614         4.668738\n",
              "Boston          5.641833    4.432620  ...   4.347249         4.872124\n",
              "\n",
              "[8 rows x 5 columns]"
            ]
          },
          "metadata": {
            "tags": []
          },
          "execution_count": 14
        }
      ]
    },
    {
      "cell_type": "markdown",
      "metadata": {
        "id": "K1VdYJJ1S6iO"
      },
      "source": [
        "## Exercise: Concat continued\n",
        "\n",
        "Repeat the above for fictitious values for New York, Tokyo, Manila and Budapest - concatenate into a new dataframe \"df\"."
      ]
    },
    {
      "cell_type": "code",
      "metadata": {
        "id": "5Offjs7HFcm7",
        "colab": {
          "base_uri": "https://localhost:8080/",
          "height": 421
        },
        "outputId": "7ebf40f4-288c-45c7-ac32-f54907ce536e"
      },
      "source": [
        "df4 = pd.DataFrame(5+np.random.randn(4,5))\n",
        "df4.columns = ['area','population','mean temperature','elevation','annual rainfall']\n",
        "df4.index = ['Tokyo','New York', 'Manila', 'Budapest']\n",
        "df = pd.concat([df3, df4])\n",
        "df"
      ],
      "execution_count": null,
      "outputs": [
        {
          "output_type": "execute_result",
          "data": {
            "text/html": [
              "<div>\n",
              "<style scoped>\n",
              "    .dataframe tbody tr th:only-of-type {\n",
              "        vertical-align: middle;\n",
              "    }\n",
              "\n",
              "    .dataframe tbody tr th {\n",
              "        vertical-align: top;\n",
              "    }\n",
              "\n",
              "    .dataframe thead th {\n",
              "        text-align: right;\n",
              "    }\n",
              "</style>\n",
              "<table border=\"1\" class=\"dataframe\">\n",
              "  <thead>\n",
              "    <tr style=\"text-align: right;\">\n",
              "      <th></th>\n",
              "      <th>area</th>\n",
              "      <th>population</th>\n",
              "      <th>mean temperature</th>\n",
              "      <th>elevation</th>\n",
              "      <th>annual rainfall</th>\n",
              "    </tr>\n",
              "  </thead>\n",
              "  <tbody>\n",
              "    <tr>\n",
              "      <th>London</th>\n",
              "      <td>3.216893</td>\n",
              "      <td>6.276101</td>\n",
              "      <td>4.443587</td>\n",
              "      <td>6.038096</td>\n",
              "      <td>2.953595</td>\n",
              "    </tr>\n",
              "    <tr>\n",
              "      <th>Paris</th>\n",
              "      <td>3.984280</td>\n",
              "      <td>5.559348</td>\n",
              "      <td>3.709400</td>\n",
              "      <td>5.719207</td>\n",
              "      <td>6.326671</td>\n",
              "    </tr>\n",
              "    <tr>\n",
              "      <th>Beijing</th>\n",
              "      <td>3.766676</td>\n",
              "      <td>5.777176</td>\n",
              "      <td>4.519361</td>\n",
              "      <td>3.011001</td>\n",
              "      <td>4.160469</td>\n",
              "    </tr>\n",
              "    <tr>\n",
              "      <th>Medellin</th>\n",
              "      <td>4.047565</td>\n",
              "      <td>3.918493</td>\n",
              "      <td>5.591387</td>\n",
              "      <td>6.364804</td>\n",
              "      <td>4.265662</td>\n",
              "    </tr>\n",
              "    <tr>\n",
              "      <th>Port Elizabeth</th>\n",
              "      <td>3.705394</td>\n",
              "      <td>6.070595</td>\n",
              "      <td>4.968840</td>\n",
              "      <td>5.977597</td>\n",
              "      <td>7.528395</td>\n",
              "    </tr>\n",
              "    <tr>\n",
              "      <th>Mumbai</th>\n",
              "      <td>5.490139</td>\n",
              "      <td>3.429448</td>\n",
              "      <td>4.767525</td>\n",
              "      <td>7.002838</td>\n",
              "      <td>6.006320</td>\n",
              "    </tr>\n",
              "    <tr>\n",
              "      <th>Sydney</th>\n",
              "      <td>4.732194</td>\n",
              "      <td>7.140077</td>\n",
              "      <td>3.834323</td>\n",
              "      <td>4.742614</td>\n",
              "      <td>4.668738</td>\n",
              "    </tr>\n",
              "    <tr>\n",
              "      <th>Boston</th>\n",
              "      <td>5.641833</td>\n",
              "      <td>4.432620</td>\n",
              "      <td>5.857284</td>\n",
              "      <td>4.347249</td>\n",
              "      <td>4.872124</td>\n",
              "    </tr>\n",
              "    <tr>\n",
              "      <th>Tokyo</th>\n",
              "      <td>4.390478</td>\n",
              "      <td>3.747950</td>\n",
              "      <td>5.576955</td>\n",
              "      <td>4.183565</td>\n",
              "      <td>5.066537</td>\n",
              "    </tr>\n",
              "    <tr>\n",
              "      <th>New York</th>\n",
              "      <td>5.666738</td>\n",
              "      <td>5.686727</td>\n",
              "      <td>6.454669</td>\n",
              "      <td>5.308943</td>\n",
              "      <td>4.487193</td>\n",
              "    </tr>\n",
              "    <tr>\n",
              "      <th>Manila</th>\n",
              "      <td>4.815878</td>\n",
              "      <td>5.520554</td>\n",
              "      <td>4.065866</td>\n",
              "      <td>5.560414</td>\n",
              "      <td>5.637730</td>\n",
              "    </tr>\n",
              "    <tr>\n",
              "      <th>Budapest</th>\n",
              "      <td>4.472238</td>\n",
              "      <td>4.456937</td>\n",
              "      <td>4.985332</td>\n",
              "      <td>2.223706</td>\n",
              "      <td>4.575077</td>\n",
              "    </tr>\n",
              "  </tbody>\n",
              "</table>\n",
              "</div>"
            ],
            "text/plain": [
              "                    area  population  ...  elevation  annual rainfall\n",
              "London          3.216893    6.276101  ...   6.038096         2.953595\n",
              "Paris           3.984280    5.559348  ...   5.719207         6.326671\n",
              "Beijing         3.766676    5.777176  ...   3.011001         4.160469\n",
              "Medellin        4.047565    3.918493  ...   6.364804         4.265662\n",
              "Port Elizabeth  3.705394    6.070595  ...   5.977597         7.528395\n",
              "Mumbai          5.490139    3.429448  ...   7.002838         6.006320\n",
              "Sydney          4.732194    7.140077  ...   4.742614         4.668738\n",
              "Boston          5.641833    4.432620  ...   4.347249         4.872124\n",
              "Tokyo           4.390478    3.747950  ...   4.183565         5.066537\n",
              "New York        5.666738    5.686727  ...   5.308943         4.487193\n",
              "Manila          4.815878    5.520554  ...   5.560414         5.637730\n",
              "Budapest        4.472238    4.456937  ...   2.223706         4.575077\n",
              "\n",
              "[12 rows x 5 columns]"
            ]
          },
          "metadata": {
            "tags": []
          },
          "execution_count": 36
        }
      ]
    },
    {
      "cell_type": "markdown",
      "metadata": {
        "id": "_V4E81NFS6iO"
      },
      "source": [
        "## Combining on Attributes\n",
        "\n",
        "What if we're looking at the same locations but different attributes? Consider the same df1"
      ]
    },
    {
      "cell_type": "code",
      "metadata": {
        "id": "RY6pB5VNS6iO"
      },
      "source": [
        "df1 = pd.DataFrame(5+np.random.randn(5, 5))\n",
        "df1.columns = ['area','population','mean temperature','elevation','annual rainfall']\n",
        "df1.index = ['London', 'Paris', 'Beijing', 'Medellin', 'Port Elizabeth']"
      ],
      "execution_count": null,
      "outputs": []
    },
    {
      "cell_type": "code",
      "metadata": {
        "id": "RUhGQIVKS6iQ",
        "colab": {
          "base_uri": "https://localhost:8080/",
          "height": 204
        },
        "outputId": "5cdb88bf-5fcd-4491-bb83-d60d37c6f6d2"
      },
      "source": [
        "df1"
      ],
      "execution_count": null,
      "outputs": [
        {
          "output_type": "execute_result",
          "data": {
            "text/html": [
              "<div>\n",
              "<style scoped>\n",
              "    .dataframe tbody tr th:only-of-type {\n",
              "        vertical-align: middle;\n",
              "    }\n",
              "\n",
              "    .dataframe tbody tr th {\n",
              "        vertical-align: top;\n",
              "    }\n",
              "\n",
              "    .dataframe thead th {\n",
              "        text-align: right;\n",
              "    }\n",
              "</style>\n",
              "<table border=\"1\" class=\"dataframe\">\n",
              "  <thead>\n",
              "    <tr style=\"text-align: right;\">\n",
              "      <th></th>\n",
              "      <th>area</th>\n",
              "      <th>population</th>\n",
              "      <th>mean temperature</th>\n",
              "      <th>elevation</th>\n",
              "      <th>annual rainfall</th>\n",
              "    </tr>\n",
              "  </thead>\n",
              "  <tbody>\n",
              "    <tr>\n",
              "      <th>London</th>\n",
              "      <td>5.058022</td>\n",
              "      <td>5.650540</td>\n",
              "      <td>5.999615</td>\n",
              "      <td>5.731714</td>\n",
              "      <td>5.314377</td>\n",
              "    </tr>\n",
              "    <tr>\n",
              "      <th>Paris</th>\n",
              "      <td>4.866784</td>\n",
              "      <td>3.050303</td>\n",
              "      <td>4.117971</td>\n",
              "      <td>3.459899</td>\n",
              "      <td>5.316174</td>\n",
              "    </tr>\n",
              "    <tr>\n",
              "      <th>Beijing</th>\n",
              "      <td>5.040515</td>\n",
              "      <td>5.646869</td>\n",
              "      <td>3.649220</td>\n",
              "      <td>5.376188</td>\n",
              "      <td>4.283250</td>\n",
              "    </tr>\n",
              "    <tr>\n",
              "      <th>Medellin</th>\n",
              "      <td>6.166549</td>\n",
              "      <td>3.220089</td>\n",
              "      <td>5.210585</td>\n",
              "      <td>3.451935</td>\n",
              "      <td>4.890432</td>\n",
              "    </tr>\n",
              "    <tr>\n",
              "      <th>Port Elizabeth</th>\n",
              "      <td>5.642067</td>\n",
              "      <td>5.922139</td>\n",
              "      <td>4.828578</td>\n",
              "      <td>3.143093</td>\n",
              "      <td>4.286086</td>\n",
              "    </tr>\n",
              "  </tbody>\n",
              "</table>\n",
              "</div>"
            ],
            "text/plain": [
              "                    area  population  ...  elevation  annual rainfall\n",
              "London          5.058022    5.650540  ...   5.731714         5.314377\n",
              "Paris           4.866784    3.050303  ...   3.459899         5.316174\n",
              "Beijing         5.040515    5.646869  ...   5.376188         4.283250\n",
              "Medellin        6.166549    3.220089  ...   3.451935         4.890432\n",
              "Port Elizabeth  5.642067    5.922139  ...   3.143093         4.286086\n",
              "\n",
              "[5 rows x 5 columns]"
            ]
          },
          "metadata": {
            "tags": []
          },
          "execution_count": 17
        }
      ]
    },
    {
      "cell_type": "markdown",
      "metadata": {
        "id": "mIL7nRfIS6iS"
      },
      "source": [
        "But a new dataframe df4, which details the same locations, but has different information about them:"
      ]
    },
    {
      "cell_type": "code",
      "metadata": {
        "id": "Iegqp8xGS6iS"
      },
      "source": [
        "df4 = pd.DataFrame(5+np.random.randn(5, 3))\n",
        "df4.columns = ['Mean House Price', 'median income','walkability score']\n",
        "df4.index = ['London', 'Paris', 'Beijing', 'Medellin', 'Port Elizabeth']"
      ],
      "execution_count": null,
      "outputs": []
    },
    {
      "cell_type": "code",
      "metadata": {
        "id": "rbAmWwAQS6iV",
        "colab": {
          "base_uri": "https://localhost:8080/",
          "height": 204
        },
        "outputId": "f53ac6cb-028e-4584-e1cd-fb3aeb38aeea"
      },
      "source": [
        "df4"
      ],
      "execution_count": null,
      "outputs": [
        {
          "output_type": "execute_result",
          "data": {
            "text/html": [
              "<div>\n",
              "<style scoped>\n",
              "    .dataframe tbody tr th:only-of-type {\n",
              "        vertical-align: middle;\n",
              "    }\n",
              "\n",
              "    .dataframe tbody tr th {\n",
              "        vertical-align: top;\n",
              "    }\n",
              "\n",
              "    .dataframe thead th {\n",
              "        text-align: right;\n",
              "    }\n",
              "</style>\n",
              "<table border=\"1\" class=\"dataframe\">\n",
              "  <thead>\n",
              "    <tr style=\"text-align: right;\">\n",
              "      <th></th>\n",
              "      <th>Mean House Price</th>\n",
              "      <th>median income</th>\n",
              "      <th>walkability score</th>\n",
              "    </tr>\n",
              "  </thead>\n",
              "  <tbody>\n",
              "    <tr>\n",
              "      <th>London</th>\n",
              "      <td>5.052858</td>\n",
              "      <td>3.714849</td>\n",
              "      <td>4.124909</td>\n",
              "    </tr>\n",
              "    <tr>\n",
              "      <th>Paris</th>\n",
              "      <td>3.806081</td>\n",
              "      <td>4.066766</td>\n",
              "      <td>3.880197</td>\n",
              "    </tr>\n",
              "    <tr>\n",
              "      <th>Beijing</th>\n",
              "      <td>4.649652</td>\n",
              "      <td>4.530376</td>\n",
              "      <td>4.896610</td>\n",
              "    </tr>\n",
              "    <tr>\n",
              "      <th>Medellin</th>\n",
              "      <td>4.146198</td>\n",
              "      <td>4.856801</td>\n",
              "      <td>5.254920</td>\n",
              "    </tr>\n",
              "    <tr>\n",
              "      <th>Port Elizabeth</th>\n",
              "      <td>3.293108</td>\n",
              "      <td>5.272756</td>\n",
              "      <td>4.417237</td>\n",
              "    </tr>\n",
              "  </tbody>\n",
              "</table>\n",
              "</div>"
            ],
            "text/plain": [
              "                Mean House Price  median income  walkability score\n",
              "London                  5.052858       3.714849           4.124909\n",
              "Paris                   3.806081       4.066766           3.880197\n",
              "Beijing                 4.649652       4.530376           4.896610\n",
              "Medellin                4.146198       4.856801           5.254920\n",
              "Port Elizabeth          3.293108       5.272756           4.417237"
            ]
          },
          "metadata": {
            "tags": []
          },
          "execution_count": 19
        }
      ]
    },
    {
      "cell_type": "markdown",
      "metadata": {
        "id": "0qqCGLRNS6iX"
      },
      "source": [
        "We have to join \"on\" the index - meaning when merging the records, python will look at the index column."
      ]
    },
    {
      "cell_type": "code",
      "metadata": {
        "id": "WYmpWEtDS6iY"
      },
      "source": [
        "df_joined = df1.merge(df4, left_index=True, right_index=True)"
      ],
      "execution_count": null,
      "outputs": []
    },
    {
      "cell_type": "code",
      "metadata": {
        "id": "vza_xrYaS6ic",
        "colab": {
          "base_uri": "https://localhost:8080/",
          "height": 204
        },
        "outputId": "9c37a03b-855e-4bc6-f5d0-87196cdf581e"
      },
      "source": [
        "df_joined"
      ],
      "execution_count": null,
      "outputs": [
        {
          "output_type": "execute_result",
          "data": {
            "text/html": [
              "<div>\n",
              "<style scoped>\n",
              "    .dataframe tbody tr th:only-of-type {\n",
              "        vertical-align: middle;\n",
              "    }\n",
              "\n",
              "    .dataframe tbody tr th {\n",
              "        vertical-align: top;\n",
              "    }\n",
              "\n",
              "    .dataframe thead th {\n",
              "        text-align: right;\n",
              "    }\n",
              "</style>\n",
              "<table border=\"1\" class=\"dataframe\">\n",
              "  <thead>\n",
              "    <tr style=\"text-align: right;\">\n",
              "      <th></th>\n",
              "      <th>area</th>\n",
              "      <th>population</th>\n",
              "      <th>mean temperature</th>\n",
              "      <th>elevation</th>\n",
              "      <th>annual rainfall</th>\n",
              "      <th>Mean House Price</th>\n",
              "      <th>median income</th>\n",
              "      <th>walkability score</th>\n",
              "    </tr>\n",
              "  </thead>\n",
              "  <tbody>\n",
              "    <tr>\n",
              "      <th>London</th>\n",
              "      <td>5.058022</td>\n",
              "      <td>5.650540</td>\n",
              "      <td>5.999615</td>\n",
              "      <td>5.731714</td>\n",
              "      <td>5.314377</td>\n",
              "      <td>5.052858</td>\n",
              "      <td>3.714849</td>\n",
              "      <td>4.124909</td>\n",
              "    </tr>\n",
              "    <tr>\n",
              "      <th>Paris</th>\n",
              "      <td>4.866784</td>\n",
              "      <td>3.050303</td>\n",
              "      <td>4.117971</td>\n",
              "      <td>3.459899</td>\n",
              "      <td>5.316174</td>\n",
              "      <td>3.806081</td>\n",
              "      <td>4.066766</td>\n",
              "      <td>3.880197</td>\n",
              "    </tr>\n",
              "    <tr>\n",
              "      <th>Beijing</th>\n",
              "      <td>5.040515</td>\n",
              "      <td>5.646869</td>\n",
              "      <td>3.649220</td>\n",
              "      <td>5.376188</td>\n",
              "      <td>4.283250</td>\n",
              "      <td>4.649652</td>\n",
              "      <td>4.530376</td>\n",
              "      <td>4.896610</td>\n",
              "    </tr>\n",
              "    <tr>\n",
              "      <th>Medellin</th>\n",
              "      <td>6.166549</td>\n",
              "      <td>3.220089</td>\n",
              "      <td>5.210585</td>\n",
              "      <td>3.451935</td>\n",
              "      <td>4.890432</td>\n",
              "      <td>4.146198</td>\n",
              "      <td>4.856801</td>\n",
              "      <td>5.254920</td>\n",
              "    </tr>\n",
              "    <tr>\n",
              "      <th>Port Elizabeth</th>\n",
              "      <td>5.642067</td>\n",
              "      <td>5.922139</td>\n",
              "      <td>4.828578</td>\n",
              "      <td>3.143093</td>\n",
              "      <td>4.286086</td>\n",
              "      <td>3.293108</td>\n",
              "      <td>5.272756</td>\n",
              "      <td>4.417237</td>\n",
              "    </tr>\n",
              "  </tbody>\n",
              "</table>\n",
              "</div>"
            ],
            "text/plain": [
              "                    area  population  ...  median income  walkability score\n",
              "London          5.058022    5.650540  ...       3.714849           4.124909\n",
              "Paris           4.866784    3.050303  ...       4.066766           3.880197\n",
              "Beijing         5.040515    5.646869  ...       4.530376           4.896610\n",
              "Medellin        6.166549    3.220089  ...       4.856801           5.254920\n",
              "Port Elizabeth  5.642067    5.922139  ...       5.272756           4.417237\n",
              "\n",
              "[5 rows x 8 columns]"
            ]
          },
          "metadata": {
            "tags": []
          },
          "execution_count": 21
        }
      ]
    },
    {
      "cell_type": "markdown",
      "metadata": {
        "id": "EooLXZTQS6ie"
      },
      "source": [
        "Note that this joins on the *index*, not the row number - so if the order of elements in df4 is different, it should still work."
      ]
    },
    {
      "cell_type": "code",
      "metadata": {
        "id": "n_91cClkS6ie"
      },
      "source": [
        "df4 = pd.DataFrame(np.random.randn(5, 3))\n",
        "df4.columns = ['Mean House Price', 'median income','walkability score']\n",
        "df4.index = ['Paris','Port Elizabeth', 'Beijing', 'Medellin', 'London']"
      ],
      "execution_count": null,
      "outputs": []
    },
    {
      "cell_type": "code",
      "metadata": {
        "id": "mqMP2oAXS6ig",
        "colab": {
          "base_uri": "https://localhost:8080/",
          "height": 204
        },
        "outputId": "09bcee48-db0b-449d-aac6-7f49cf5ea941"
      },
      "source": [
        "df1"
      ],
      "execution_count": null,
      "outputs": [
        {
          "output_type": "execute_result",
          "data": {
            "text/html": [
              "<div>\n",
              "<style scoped>\n",
              "    .dataframe tbody tr th:only-of-type {\n",
              "        vertical-align: middle;\n",
              "    }\n",
              "\n",
              "    .dataframe tbody tr th {\n",
              "        vertical-align: top;\n",
              "    }\n",
              "\n",
              "    .dataframe thead th {\n",
              "        text-align: right;\n",
              "    }\n",
              "</style>\n",
              "<table border=\"1\" class=\"dataframe\">\n",
              "  <thead>\n",
              "    <tr style=\"text-align: right;\">\n",
              "      <th></th>\n",
              "      <th>area</th>\n",
              "      <th>population</th>\n",
              "      <th>mean temperature</th>\n",
              "      <th>elevation</th>\n",
              "      <th>annual rainfall</th>\n",
              "    </tr>\n",
              "  </thead>\n",
              "  <tbody>\n",
              "    <tr>\n",
              "      <th>London</th>\n",
              "      <td>5.058022</td>\n",
              "      <td>5.650540</td>\n",
              "      <td>5.999615</td>\n",
              "      <td>5.731714</td>\n",
              "      <td>5.314377</td>\n",
              "    </tr>\n",
              "    <tr>\n",
              "      <th>Paris</th>\n",
              "      <td>4.866784</td>\n",
              "      <td>3.050303</td>\n",
              "      <td>4.117971</td>\n",
              "      <td>3.459899</td>\n",
              "      <td>5.316174</td>\n",
              "    </tr>\n",
              "    <tr>\n",
              "      <th>Beijing</th>\n",
              "      <td>5.040515</td>\n",
              "      <td>5.646869</td>\n",
              "      <td>3.649220</td>\n",
              "      <td>5.376188</td>\n",
              "      <td>4.283250</td>\n",
              "    </tr>\n",
              "    <tr>\n",
              "      <th>Medellin</th>\n",
              "      <td>6.166549</td>\n",
              "      <td>3.220089</td>\n",
              "      <td>5.210585</td>\n",
              "      <td>3.451935</td>\n",
              "      <td>4.890432</td>\n",
              "    </tr>\n",
              "    <tr>\n",
              "      <th>Port Elizabeth</th>\n",
              "      <td>5.642067</td>\n",
              "      <td>5.922139</td>\n",
              "      <td>4.828578</td>\n",
              "      <td>3.143093</td>\n",
              "      <td>4.286086</td>\n",
              "    </tr>\n",
              "  </tbody>\n",
              "</table>\n",
              "</div>"
            ],
            "text/plain": [
              "                    area  population  ...  elevation  annual rainfall\n",
              "London          5.058022    5.650540  ...   5.731714         5.314377\n",
              "Paris           4.866784    3.050303  ...   3.459899         5.316174\n",
              "Beijing         5.040515    5.646869  ...   5.376188         4.283250\n",
              "Medellin        6.166549    3.220089  ...   3.451935         4.890432\n",
              "Port Elizabeth  5.642067    5.922139  ...   3.143093         4.286086\n",
              "\n",
              "[5 rows x 5 columns]"
            ]
          },
          "metadata": {
            "tags": []
          },
          "execution_count": 23
        }
      ]
    },
    {
      "cell_type": "code",
      "metadata": {
        "id": "A8NaT1CUS6ii",
        "colab": {
          "base_uri": "https://localhost:8080/",
          "height": 204
        },
        "outputId": "b04416dd-d967-41c2-d52d-344a02437949"
      },
      "source": [
        "df4"
      ],
      "execution_count": null,
      "outputs": [
        {
          "output_type": "execute_result",
          "data": {
            "text/html": [
              "<div>\n",
              "<style scoped>\n",
              "    .dataframe tbody tr th:only-of-type {\n",
              "        vertical-align: middle;\n",
              "    }\n",
              "\n",
              "    .dataframe tbody tr th {\n",
              "        vertical-align: top;\n",
              "    }\n",
              "\n",
              "    .dataframe thead th {\n",
              "        text-align: right;\n",
              "    }\n",
              "</style>\n",
              "<table border=\"1\" class=\"dataframe\">\n",
              "  <thead>\n",
              "    <tr style=\"text-align: right;\">\n",
              "      <th></th>\n",
              "      <th>Mean House Price</th>\n",
              "      <th>median income</th>\n",
              "      <th>walkability score</th>\n",
              "    </tr>\n",
              "  </thead>\n",
              "  <tbody>\n",
              "    <tr>\n",
              "      <th>Paris</th>\n",
              "      <td>0.408391</td>\n",
              "      <td>1.116115</td>\n",
              "      <td>0.430128</td>\n",
              "    </tr>\n",
              "    <tr>\n",
              "      <th>Port Elizabeth</th>\n",
              "      <td>0.419985</td>\n",
              "      <td>0.629496</td>\n",
              "      <td>-0.740052</td>\n",
              "    </tr>\n",
              "    <tr>\n",
              "      <th>Beijing</th>\n",
              "      <td>-0.470948</td>\n",
              "      <td>-2.121675</td>\n",
              "      <td>-0.692761</td>\n",
              "    </tr>\n",
              "    <tr>\n",
              "      <th>Medellin</th>\n",
              "      <td>-0.099120</td>\n",
              "      <td>1.475829</td>\n",
              "      <td>-0.701717</td>\n",
              "    </tr>\n",
              "    <tr>\n",
              "      <th>London</th>\n",
              "      <td>-1.492157</td>\n",
              "      <td>-1.598164</td>\n",
              "      <td>1.168210</td>\n",
              "    </tr>\n",
              "  </tbody>\n",
              "</table>\n",
              "</div>"
            ],
            "text/plain": [
              "                Mean House Price  median income  walkability score\n",
              "Paris                   0.408391       1.116115           0.430128\n",
              "Port Elizabeth          0.419985       0.629496          -0.740052\n",
              "Beijing                -0.470948      -2.121675          -0.692761\n",
              "Medellin               -0.099120       1.475829          -0.701717\n",
              "London                 -1.492157      -1.598164           1.168210"
            ]
          },
          "metadata": {
            "tags": []
          },
          "execution_count": 24
        }
      ]
    },
    {
      "cell_type": "markdown",
      "metadata": {
        "id": "lIvjGPVPS6ik"
      },
      "source": [
        "    "
      ]
    },
    {
      "cell_type": "code",
      "metadata": {
        "id": "w2x9D_uqS6ik"
      },
      "source": [
        "df_joined = df1.merge(df4, left_index=True, right_index=True)"
      ],
      "execution_count": null,
      "outputs": []
    },
    {
      "cell_type": "code",
      "metadata": {
        "id": "id3wkaJ-S6im",
        "colab": {
          "base_uri": "https://localhost:8080/",
          "height": 204
        },
        "outputId": "b8fa9398-8b1d-42a7-983b-bb2d04f61553"
      },
      "source": [
        "df_joined"
      ],
      "execution_count": null,
      "outputs": [
        {
          "output_type": "execute_result",
          "data": {
            "text/html": [
              "<div>\n",
              "<style scoped>\n",
              "    .dataframe tbody tr th:only-of-type {\n",
              "        vertical-align: middle;\n",
              "    }\n",
              "\n",
              "    .dataframe tbody tr th {\n",
              "        vertical-align: top;\n",
              "    }\n",
              "\n",
              "    .dataframe thead th {\n",
              "        text-align: right;\n",
              "    }\n",
              "</style>\n",
              "<table border=\"1\" class=\"dataframe\">\n",
              "  <thead>\n",
              "    <tr style=\"text-align: right;\">\n",
              "      <th></th>\n",
              "      <th>area</th>\n",
              "      <th>population</th>\n",
              "      <th>mean temperature</th>\n",
              "      <th>elevation</th>\n",
              "      <th>annual rainfall</th>\n",
              "      <th>Mean House Price</th>\n",
              "      <th>median income</th>\n",
              "      <th>walkability score</th>\n",
              "    </tr>\n",
              "  </thead>\n",
              "  <tbody>\n",
              "    <tr>\n",
              "      <th>London</th>\n",
              "      <td>5.058022</td>\n",
              "      <td>5.650540</td>\n",
              "      <td>5.999615</td>\n",
              "      <td>5.731714</td>\n",
              "      <td>5.314377</td>\n",
              "      <td>-1.492157</td>\n",
              "      <td>-1.598164</td>\n",
              "      <td>1.168210</td>\n",
              "    </tr>\n",
              "    <tr>\n",
              "      <th>Paris</th>\n",
              "      <td>4.866784</td>\n",
              "      <td>3.050303</td>\n",
              "      <td>4.117971</td>\n",
              "      <td>3.459899</td>\n",
              "      <td>5.316174</td>\n",
              "      <td>0.408391</td>\n",
              "      <td>1.116115</td>\n",
              "      <td>0.430128</td>\n",
              "    </tr>\n",
              "    <tr>\n",
              "      <th>Beijing</th>\n",
              "      <td>5.040515</td>\n",
              "      <td>5.646869</td>\n",
              "      <td>3.649220</td>\n",
              "      <td>5.376188</td>\n",
              "      <td>4.283250</td>\n",
              "      <td>-0.470948</td>\n",
              "      <td>-2.121675</td>\n",
              "      <td>-0.692761</td>\n",
              "    </tr>\n",
              "    <tr>\n",
              "      <th>Medellin</th>\n",
              "      <td>6.166549</td>\n",
              "      <td>3.220089</td>\n",
              "      <td>5.210585</td>\n",
              "      <td>3.451935</td>\n",
              "      <td>4.890432</td>\n",
              "      <td>-0.099120</td>\n",
              "      <td>1.475829</td>\n",
              "      <td>-0.701717</td>\n",
              "    </tr>\n",
              "    <tr>\n",
              "      <th>Port Elizabeth</th>\n",
              "      <td>5.642067</td>\n",
              "      <td>5.922139</td>\n",
              "      <td>4.828578</td>\n",
              "      <td>3.143093</td>\n",
              "      <td>4.286086</td>\n",
              "      <td>0.419985</td>\n",
              "      <td>0.629496</td>\n",
              "      <td>-0.740052</td>\n",
              "    </tr>\n",
              "  </tbody>\n",
              "</table>\n",
              "</div>"
            ],
            "text/plain": [
              "                    area  population  ...  median income  walkability score\n",
              "London          5.058022    5.650540  ...      -1.598164           1.168210\n",
              "Paris           4.866784    3.050303  ...       1.116115           0.430128\n",
              "Beijing         5.040515    5.646869  ...      -2.121675          -0.692761\n",
              "Medellin        6.166549    3.220089  ...       1.475829          -0.701717\n",
              "Port Elizabeth  5.642067    5.922139  ...       0.629496          -0.740052\n",
              "\n",
              "[5 rows x 8 columns]"
            ]
          },
          "metadata": {
            "tags": []
          },
          "execution_count": 26
        }
      ]
    },
    {
      "cell_type": "markdown",
      "metadata": {
        "id": "3K9QAAtIS6io"
      },
      "source": [
        "## Merge Records\n",
        "Consider now a case where we have data for some but not all cities; so df1 stil has data for these 5 cities:"
      ]
    },
    {
      "cell_type": "code",
      "metadata": {
        "id": "3wuan3iVS6ip",
        "colab": {
          "base_uri": "https://localhost:8080/",
          "height": 204
        },
        "outputId": "2b9c5cee-cbae-46af-f945-1284277a3446"
      },
      "source": [
        "df1"
      ],
      "execution_count": null,
      "outputs": [
        {
          "output_type": "execute_result",
          "data": {
            "text/html": [
              "<div>\n",
              "<style scoped>\n",
              "    .dataframe tbody tr th:only-of-type {\n",
              "        vertical-align: middle;\n",
              "    }\n",
              "\n",
              "    .dataframe tbody tr th {\n",
              "        vertical-align: top;\n",
              "    }\n",
              "\n",
              "    .dataframe thead th {\n",
              "        text-align: right;\n",
              "    }\n",
              "</style>\n",
              "<table border=\"1\" class=\"dataframe\">\n",
              "  <thead>\n",
              "    <tr style=\"text-align: right;\">\n",
              "      <th></th>\n",
              "      <th>area</th>\n",
              "      <th>population</th>\n",
              "      <th>mean temperature</th>\n",
              "      <th>elevation</th>\n",
              "      <th>annual rainfall</th>\n",
              "    </tr>\n",
              "  </thead>\n",
              "  <tbody>\n",
              "    <tr>\n",
              "      <th>London</th>\n",
              "      <td>5.058022</td>\n",
              "      <td>5.650540</td>\n",
              "      <td>5.999615</td>\n",
              "      <td>5.731714</td>\n",
              "      <td>5.314377</td>\n",
              "    </tr>\n",
              "    <tr>\n",
              "      <th>Paris</th>\n",
              "      <td>4.866784</td>\n",
              "      <td>3.050303</td>\n",
              "      <td>4.117971</td>\n",
              "      <td>3.459899</td>\n",
              "      <td>5.316174</td>\n",
              "    </tr>\n",
              "    <tr>\n",
              "      <th>Beijing</th>\n",
              "      <td>5.040515</td>\n",
              "      <td>5.646869</td>\n",
              "      <td>3.649220</td>\n",
              "      <td>5.376188</td>\n",
              "      <td>4.283250</td>\n",
              "    </tr>\n",
              "    <tr>\n",
              "      <th>Medellin</th>\n",
              "      <td>6.166549</td>\n",
              "      <td>3.220089</td>\n",
              "      <td>5.210585</td>\n",
              "      <td>3.451935</td>\n",
              "      <td>4.890432</td>\n",
              "    </tr>\n",
              "    <tr>\n",
              "      <th>Port Elizabeth</th>\n",
              "      <td>5.642067</td>\n",
              "      <td>5.922139</td>\n",
              "      <td>4.828578</td>\n",
              "      <td>3.143093</td>\n",
              "      <td>4.286086</td>\n",
              "    </tr>\n",
              "  </tbody>\n",
              "</table>\n",
              "</div>"
            ],
            "text/plain": [
              "                    area  population  ...  elevation  annual rainfall\n",
              "London          5.058022    5.650540  ...   5.731714         5.314377\n",
              "Paris           4.866784    3.050303  ...   3.459899         5.316174\n",
              "Beijing         5.040515    5.646869  ...   5.376188         4.283250\n",
              "Medellin        6.166549    3.220089  ...   3.451935         4.890432\n",
              "Port Elizabeth  5.642067    5.922139  ...   3.143093         4.286086\n",
              "\n",
              "[5 rows x 5 columns]"
            ]
          },
          "metadata": {
            "tags": []
          },
          "execution_count": 27
        }
      ]
    },
    {
      "cell_type": "markdown",
      "metadata": {
        "id": "Hb9KFYoWS6ir"
      },
      "source": [
        "But our new table, df5, contains data for three cities:"
      ]
    },
    {
      "cell_type": "code",
      "metadata": {
        "id": "HF4QTxXyS6ir"
      },
      "source": [
        "df5 = pd.DataFrame(5+np.random.randn(3, 3))\n",
        "df5.columns = ['Mean House Price', 'median income','walkability score']\n",
        "df5.index = ['London', 'Paris', 'Glasgow']"
      ],
      "execution_count": null,
      "outputs": []
    },
    {
      "cell_type": "code",
      "metadata": {
        "id": "XDqn6RpqS6it",
        "colab": {
          "base_uri": "https://localhost:8080/",
          "height": 142
        },
        "outputId": "c52ed759-2ec6-4508-d08a-e0d8b1de1ebc"
      },
      "source": [
        "df5"
      ],
      "execution_count": null,
      "outputs": [
        {
          "output_type": "execute_result",
          "data": {
            "text/html": [
              "<div>\n",
              "<style scoped>\n",
              "    .dataframe tbody tr th:only-of-type {\n",
              "        vertical-align: middle;\n",
              "    }\n",
              "\n",
              "    .dataframe tbody tr th {\n",
              "        vertical-align: top;\n",
              "    }\n",
              "\n",
              "    .dataframe thead th {\n",
              "        text-align: right;\n",
              "    }\n",
              "</style>\n",
              "<table border=\"1\" class=\"dataframe\">\n",
              "  <thead>\n",
              "    <tr style=\"text-align: right;\">\n",
              "      <th></th>\n",
              "      <th>Mean House Price</th>\n",
              "      <th>median income</th>\n",
              "      <th>walkability score</th>\n",
              "    </tr>\n",
              "  </thead>\n",
              "  <tbody>\n",
              "    <tr>\n",
              "      <th>London</th>\n",
              "      <td>4.863221</td>\n",
              "      <td>3.638572</td>\n",
              "      <td>5.491211</td>\n",
              "    </tr>\n",
              "    <tr>\n",
              "      <th>Paris</th>\n",
              "      <td>5.304988</td>\n",
              "      <td>6.288895</td>\n",
              "      <td>7.096437</td>\n",
              "    </tr>\n",
              "    <tr>\n",
              "      <th>Glasgow</th>\n",
              "      <td>4.587733</td>\n",
              "      <td>4.217893</td>\n",
              "      <td>4.646160</td>\n",
              "    </tr>\n",
              "  </tbody>\n",
              "</table>\n",
              "</div>"
            ],
            "text/plain": [
              "         Mean House Price  median income  walkability score\n",
              "London           4.863221       3.638572           5.491211\n",
              "Paris            5.304988       6.288895           7.096437\n",
              "Glasgow          4.587733       4.217893           4.646160"
            ]
          },
          "metadata": {
            "tags": []
          },
          "execution_count": 29
        }
      ]
    },
    {
      "cell_type": "markdown",
      "metadata": {
        "id": "p-nMMNZkS6iu"
      },
      "source": [
        "## Exercise:\n",
        "\n",
        "How many cities appear in: \n",
        "- both dataframes\n",
        "- only df1\n",
        "- only df5\n",
        "- neither df1 nor df5?"
      ]
    },
    {
      "cell_type": "markdown",
      "metadata": {
        "id": "bVByjmkKG5Gj"
      },
      "source": [
        "both dataframes = 6 cities;\n",
        "df1 = 5 cities;\n",
        "df2 = 3 cities;\n",
        "Neither df1 nor df5 = Are we expected to count all cities in the world that are not in df1 or df5? Hmmmm..... 0?\n"
      ]
    },
    {
      "cell_type": "markdown",
      "metadata": {
        "id": "7jbHLNWJS6iu"
      },
      "source": [
        "## Way Back Venn \n",
        "\n",
        "What is the mechanism for joining data where these mismatches exist? Well, there are several, starting with the..."
      ]
    },
    {
      "cell_type": "markdown",
      "metadata": {
        "id": "XjGv-0WiS6iv"
      },
      "source": [
        "## Inner Join:"
      ]
    },
    {
      "cell_type": "code",
      "metadata": {
        "id": "3tm0ueElS6iv",
        "colab": {
          "base_uri": "https://localhost:8080/",
          "height": 346
        },
        "outputId": "1789dd05-b1e2-4ff8-c29b-cb6d0466b8a9"
      },
      "source": [
        "from IPython.display import Image\n",
        "\n",
        "data_path = \"https://s3.eu-west-2.amazonaws.com/qm2/wk3/inner.png\"\n",
        "Image(data_path)"
      ],
      "execution_count": null,
      "outputs": [
        {
          "output_type": "execute_result",
          "data": {
            "image/png": "[encoded data removed]",
            "text/plain": [
              "<IPython.core.display.Image object>"
            ]
          },
          "metadata": {
            "tags": []
          },
          "execution_count": 30
        }
      ]
    },
    {
      "cell_type": "markdown",
      "metadata": {
        "id": "zqOCeIaQS6ix"
      },
      "source": [
        "(Image from http://blog.codinghorror.com/a-visual-explanation-of-sql-joins/)"
      ]
    },
    {
      "cell_type": "markdown",
      "metadata": {
        "id": "WAqZJFC0S6ix"
      },
      "source": [
        "The inner join *only* includes data whose index appears in both tables. Let's see what that looks like:"
      ]
    },
    {
      "cell_type": "code",
      "metadata": {
        "id": "db9q4sgPS6ix"
      },
      "source": [
        "df_joined = df1.merge(df5, left_index=True, right_index=True)"
      ],
      "execution_count": null,
      "outputs": []
    },
    {
      "cell_type": "code",
      "metadata": {
        "id": "8ADhCAjIS6iz",
        "colab": {
          "base_uri": "https://localhost:8080/",
          "height": 111
        },
        "outputId": "c08973e3-c214-4623-e57f-d3e977ce773b"
      },
      "source": [
        "df_joined"
      ],
      "execution_count": null,
      "outputs": [
        {
          "output_type": "execute_result",
          "data": {
            "text/html": [
              "<div>\n",
              "<style scoped>\n",
              "    .dataframe tbody tr th:only-of-type {\n",
              "        vertical-align: middle;\n",
              "    }\n",
              "\n",
              "    .dataframe tbody tr th {\n",
              "        vertical-align: top;\n",
              "    }\n",
              "\n",
              "    .dataframe thead th {\n",
              "        text-align: right;\n",
              "    }\n",
              "</style>\n",
              "<table border=\"1\" class=\"dataframe\">\n",
              "  <thead>\n",
              "    <tr style=\"text-align: right;\">\n",
              "      <th></th>\n",
              "      <th>area</th>\n",
              "      <th>population</th>\n",
              "      <th>mean temperature</th>\n",
              "      <th>elevation</th>\n",
              "      <th>annual rainfall</th>\n",
              "      <th>Mean House Price</th>\n",
              "      <th>median income</th>\n",
              "      <th>walkability score</th>\n",
              "    </tr>\n",
              "  </thead>\n",
              "  <tbody>\n",
              "    <tr>\n",
              "      <th>London</th>\n",
              "      <td>5.058022</td>\n",
              "      <td>5.650540</td>\n",
              "      <td>5.999615</td>\n",
              "      <td>5.731714</td>\n",
              "      <td>5.314377</td>\n",
              "      <td>4.863221</td>\n",
              "      <td>3.638572</td>\n",
              "      <td>5.491211</td>\n",
              "    </tr>\n",
              "    <tr>\n",
              "      <th>Paris</th>\n",
              "      <td>4.866784</td>\n",
              "      <td>3.050303</td>\n",
              "      <td>4.117971</td>\n",
              "      <td>3.459899</td>\n",
              "      <td>5.316174</td>\n",
              "      <td>5.304988</td>\n",
              "      <td>6.288895</td>\n",
              "      <td>7.096437</td>\n",
              "    </tr>\n",
              "  </tbody>\n",
              "</table>\n",
              "</div>"
            ],
            "text/plain": [
              "            area  population  ...  median income  walkability score\n",
              "London  5.058022    5.650540  ...       3.638572           5.491211\n",
              "Paris   4.866784    3.050303  ...       6.288895           7.096437\n",
              "\n",
              "[2 rows x 8 columns]"
            ]
          },
          "metadata": {
            "tags": []
          },
          "execution_count": 37
        }
      ]
    },
    {
      "cell_type": "markdown",
      "metadata": {
        "id": "G6sp9kBzS6i0"
      },
      "source": [
        "Here, we have a couple of arguments specifying the manner of the join - we have specified that we are joining on the index of the left and right dataset with the optional \"left_index=True\" and \"right_index=True\". Less obviously, the **left** dataset is df1 (because we're using *df1.merge()* and the **right** dataset is df5 (because it appears as an argument in merge(). There's no special reason it shouldn't be the other way around, but for this function, it is this way around and we need to remember that when we use it. "
      ]
    },
    {
      "cell_type": "markdown",
      "metadata": {
        "id": "-_Cw_x_-S6i1"
      },
      "source": [
        "## Inner Space\n",
        "\n",
        "Although we haven't specified it, the merge() function has defaulted to an inner join (like the diagram above). We can specify how the join is calculated by changing the text in the optional argument \"how\":"
      ]
    },
    {
      "cell_type": "code",
      "metadata": {
        "id": "DgUf5p2aS6i2"
      },
      "source": [
        "df_joined = df1.merge(df5, left_index=True, right_index=True, how='inner')"
      ],
      "execution_count": null,
      "outputs": []
    },
    {
      "cell_type": "code",
      "metadata": {
        "id": "hSGBUxd-S6i4",
        "colab": {
          "base_uri": "https://localhost:8080/",
          "height": 111
        },
        "outputId": "4668be0f-8327-4e1d-d9e5-9eb1611761b0"
      },
      "source": [
        "df_joined"
      ],
      "execution_count": null,
      "outputs": [
        {
          "output_type": "execute_result",
          "data": {
            "text/html": [
              "<div>\n",
              "<style scoped>\n",
              "    .dataframe tbody tr th:only-of-type {\n",
              "        vertical-align: middle;\n",
              "    }\n",
              "\n",
              "    .dataframe tbody tr th {\n",
              "        vertical-align: top;\n",
              "    }\n",
              "\n",
              "    .dataframe thead th {\n",
              "        text-align: right;\n",
              "    }\n",
              "</style>\n",
              "<table border=\"1\" class=\"dataframe\">\n",
              "  <thead>\n",
              "    <tr style=\"text-align: right;\">\n",
              "      <th></th>\n",
              "      <th>area</th>\n",
              "      <th>population</th>\n",
              "      <th>mean temperature</th>\n",
              "      <th>elevation</th>\n",
              "      <th>annual rainfall</th>\n",
              "      <th>Mean House Price</th>\n",
              "      <th>median income</th>\n",
              "      <th>walkability score</th>\n",
              "    </tr>\n",
              "  </thead>\n",
              "  <tbody>\n",
              "    <tr>\n",
              "      <th>London</th>\n",
              "      <td>5.058022</td>\n",
              "      <td>5.650540</td>\n",
              "      <td>5.999615</td>\n",
              "      <td>5.731714</td>\n",
              "      <td>5.314377</td>\n",
              "      <td>4.863221</td>\n",
              "      <td>3.638572</td>\n",
              "      <td>5.491211</td>\n",
              "    </tr>\n",
              "    <tr>\n",
              "      <th>Paris</th>\n",
              "      <td>4.866784</td>\n",
              "      <td>3.050303</td>\n",
              "      <td>4.117971</td>\n",
              "      <td>3.459899</td>\n",
              "      <td>5.316174</td>\n",
              "      <td>5.304988</td>\n",
              "      <td>6.288895</td>\n",
              "      <td>7.096437</td>\n",
              "    </tr>\n",
              "  </tbody>\n",
              "</table>\n",
              "</div>"
            ],
            "text/plain": [
              "            area  population  ...  median income  walkability score\n",
              "London  5.058022    5.650540  ...       3.638572           5.491211\n",
              "Paris   4.866784    3.050303  ...       6.288895           7.096437\n",
              "\n",
              "[2 rows x 8 columns]"
            ]
          },
          "metadata": {
            "tags": []
          },
          "execution_count": 39
        }
      ]
    },
    {
      "cell_type": "markdown",
      "metadata": {
        "id": "HXo07YMZS6i6"
      },
      "source": [
        "## The Future of The Left\n",
        "The *left* join includes **all** rows where the index appears on the **left** hand side of the join, and **any** data which **matches** it on the **right** hand side. If the index appears on the left but not the right, it will include the data from the left table, and have blanks for the columns on the right. "
      ]
    },
    {
      "cell_type": "code",
      "metadata": {
        "id": "_Fzj1fzLS6i7",
        "colab": {
          "base_uri": "https://localhost:8080/",
          "height": 346
        },
        "outputId": "a7b820cc-d62d-4f9a-acc3-e72526d67c21"
      },
      "source": [
        "data_path = \"https://s3.eu-west-2.amazonaws.com/qm2/wk3/left.png\"\n",
        "Image(data_path)"
      ],
      "execution_count": null,
      "outputs": [
        {
          "output_type": "execute_result",
          "data": {
            "image/png": "[encoded data removed]",
            "text/plain": [
              "<IPython.core.display.Image object>"
            ]
          },
          "metadata": {
            "tags": []
          },
          "execution_count": 35
        }
      ]
    },
    {
      "cell_type": "markdown",
      "metadata": {
        "id": "uBYPSwlxS6i9"
      },
      "source": [
        "What does *this* look like? We will use the *how='left'* optional argument to create a left join:"
      ]
    },
    {
      "cell_type": "code",
      "metadata": {
        "id": "F3hxwEZxS6i-"
      },
      "source": [
        "df_joined = df1.merge(df5, left_index=True, right_index=True, how='left')"
      ],
      "execution_count": null,
      "outputs": []
    },
    {
      "cell_type": "code",
      "metadata": {
        "id": "7jVbmtsYS6jA",
        "colab": {
          "base_uri": "https://localhost:8080/",
          "height": 204
        },
        "outputId": "083f3fb8-9203-475c-b4aa-d4972814c421"
      },
      "source": [
        "df_joined"
      ],
      "execution_count": null,
      "outputs": [
        {
          "output_type": "execute_result",
          "data": {
            "text/html": [
              "<div>\n",
              "<style scoped>\n",
              "    .dataframe tbody tr th:only-of-type {\n",
              "        vertical-align: middle;\n",
              "    }\n",
              "\n",
              "    .dataframe tbody tr th {\n",
              "        vertical-align: top;\n",
              "    }\n",
              "\n",
              "    .dataframe thead th {\n",
              "        text-align: right;\n",
              "    }\n",
              "</style>\n",
              "<table border=\"1\" class=\"dataframe\">\n",
              "  <thead>\n",
              "    <tr style=\"text-align: right;\">\n",
              "      <th></th>\n",
              "      <th>area</th>\n",
              "      <th>population</th>\n",
              "      <th>mean temperature</th>\n",
              "      <th>elevation</th>\n",
              "      <th>annual rainfall</th>\n",
              "      <th>Mean House Price</th>\n",
              "      <th>median income</th>\n",
              "      <th>walkability score</th>\n",
              "    </tr>\n",
              "  </thead>\n",
              "  <tbody>\n",
              "    <tr>\n",
              "      <th>London</th>\n",
              "      <td>5.058022</td>\n",
              "      <td>5.650540</td>\n",
              "      <td>5.999615</td>\n",
              "      <td>5.731714</td>\n",
              "      <td>5.314377</td>\n",
              "      <td>4.863221</td>\n",
              "      <td>3.638572</td>\n",
              "      <td>5.491211</td>\n",
              "    </tr>\n",
              "    <tr>\n",
              "      <th>Paris</th>\n",
              "      <td>4.866784</td>\n",
              "      <td>3.050303</td>\n",
              "      <td>4.117971</td>\n",
              "      <td>3.459899</td>\n",
              "      <td>5.316174</td>\n",
              "      <td>5.304988</td>\n",
              "      <td>6.288895</td>\n",
              "      <td>7.096437</td>\n",
              "    </tr>\n",
              "    <tr>\n",
              "      <th>Beijing</th>\n",
              "      <td>5.040515</td>\n",
              "      <td>5.646869</td>\n",
              "      <td>3.649220</td>\n",
              "      <td>5.376188</td>\n",
              "      <td>4.283250</td>\n",
              "      <td>NaN</td>\n",
              "      <td>NaN</td>\n",
              "      <td>NaN</td>\n",
              "    </tr>\n",
              "    <tr>\n",
              "      <th>Medellin</th>\n",
              "      <td>6.166549</td>\n",
              "      <td>3.220089</td>\n",
              "      <td>5.210585</td>\n",
              "      <td>3.451935</td>\n",
              "      <td>4.890432</td>\n",
              "      <td>NaN</td>\n",
              "      <td>NaN</td>\n",
              "      <td>NaN</td>\n",
              "    </tr>\n",
              "    <tr>\n",
              "      <th>Port Elizabeth</th>\n",
              "      <td>5.642067</td>\n",
              "      <td>5.922139</td>\n",
              "      <td>4.828578</td>\n",
              "      <td>3.143093</td>\n",
              "      <td>4.286086</td>\n",
              "      <td>NaN</td>\n",
              "      <td>NaN</td>\n",
              "      <td>NaN</td>\n",
              "    </tr>\n",
              "  </tbody>\n",
              "</table>\n",
              "</div>"
            ],
            "text/plain": [
              "                    area  population  ...  median income  walkability score\n",
              "London          5.058022    5.650540  ...       3.638572           5.491211\n",
              "Paris           4.866784    3.050303  ...       6.288895           7.096437\n",
              "Beijing         5.040515    5.646869  ...            NaN                NaN\n",
              "Medellin        6.166549    3.220089  ...            NaN                NaN\n",
              "Port Elizabeth  5.642067    5.922139  ...            NaN                NaN\n",
              "\n",
              "[5 rows x 8 columns]"
            ]
          },
          "metadata": {
            "tags": []
          },
          "execution_count": 41
        }
      ]
    },
    {
      "cell_type": "markdown",
      "metadata": {
        "id": "EzNh3WeSS6jC"
      },
      "source": [
        "As we see, the missing data appears as **NaN** - Not a Number."
      ]
    },
    {
      "cell_type": "markdown",
      "metadata": {
        "id": "qFwsma6tS6jC"
      },
      "source": [
        "## Exercise:\n",
        "\n",
        "Carry out *right* and *outer* joins on the dataframes df1 and df5 and explain how they're filtering and joining the data. "
      ]
    },
    {
      "cell_type": "code",
      "metadata": {
        "id": "KS5qZSchJOT1",
        "colab": {
          "base_uri": "https://localhost:8080/",
          "height": 235
        },
        "outputId": "39fe84f8-df23-4c56-c5e8-dc40e6285ee5"
      },
      "source": [
        "df_joined = df1.merge(df5, left_index=True, right_index=True, how='outer')\n",
        "df_joined"
      ],
      "execution_count": null,
      "outputs": [
        {
          "output_type": "execute_result",
          "data": {
            "text/html": [
              "<div>\n",
              "<style scoped>\n",
              "    .dataframe tbody tr th:only-of-type {\n",
              "        vertical-align: middle;\n",
              "    }\n",
              "\n",
              "    .dataframe tbody tr th {\n",
              "        vertical-align: top;\n",
              "    }\n",
              "\n",
              "    .dataframe thead th {\n",
              "        text-align: right;\n",
              "    }\n",
              "</style>\n",
              "<table border=\"1\" class=\"dataframe\">\n",
              "  <thead>\n",
              "    <tr style=\"text-align: right;\">\n",
              "      <th></th>\n",
              "      <th>area</th>\n",
              "      <th>population</th>\n",
              "      <th>mean temperature</th>\n",
              "      <th>elevation</th>\n",
              "      <th>annual rainfall</th>\n",
              "      <th>Mean House Price</th>\n",
              "      <th>median income</th>\n",
              "      <th>walkability score</th>\n",
              "    </tr>\n",
              "  </thead>\n",
              "  <tbody>\n",
              "    <tr>\n",
              "      <th>Beijing</th>\n",
              "      <td>5.040515</td>\n",
              "      <td>5.646869</td>\n",
              "      <td>3.649220</td>\n",
              "      <td>5.376188</td>\n",
              "      <td>4.283250</td>\n",
              "      <td>NaN</td>\n",
              "      <td>NaN</td>\n",
              "      <td>NaN</td>\n",
              "    </tr>\n",
              "    <tr>\n",
              "      <th>Glasgow</th>\n",
              "      <td>NaN</td>\n",
              "      <td>NaN</td>\n",
              "      <td>NaN</td>\n",
              "      <td>NaN</td>\n",
              "      <td>NaN</td>\n",
              "      <td>4.587733</td>\n",
              "      <td>4.217893</td>\n",
              "      <td>4.646160</td>\n",
              "    </tr>\n",
              "    <tr>\n",
              "      <th>London</th>\n",
              "      <td>5.058022</td>\n",
              "      <td>5.650540</td>\n",
              "      <td>5.999615</td>\n",
              "      <td>5.731714</td>\n",
              "      <td>5.314377</td>\n",
              "      <td>4.863221</td>\n",
              "      <td>3.638572</td>\n",
              "      <td>5.491211</td>\n",
              "    </tr>\n",
              "    <tr>\n",
              "      <th>Medellin</th>\n",
              "      <td>6.166549</td>\n",
              "      <td>3.220089</td>\n",
              "      <td>5.210585</td>\n",
              "      <td>3.451935</td>\n",
              "      <td>4.890432</td>\n",
              "      <td>NaN</td>\n",
              "      <td>NaN</td>\n",
              "      <td>NaN</td>\n",
              "    </tr>\n",
              "    <tr>\n",
              "      <th>Paris</th>\n",
              "      <td>4.866784</td>\n",
              "      <td>3.050303</td>\n",
              "      <td>4.117971</td>\n",
              "      <td>3.459899</td>\n",
              "      <td>5.316174</td>\n",
              "      <td>5.304988</td>\n",
              "      <td>6.288895</td>\n",
              "      <td>7.096437</td>\n",
              "    </tr>\n",
              "    <tr>\n",
              "      <th>Port Elizabeth</th>\n",
              "      <td>5.642067</td>\n",
              "      <td>5.922139</td>\n",
              "      <td>4.828578</td>\n",
              "      <td>3.143093</td>\n",
              "      <td>4.286086</td>\n",
              "      <td>NaN</td>\n",
              "      <td>NaN</td>\n",
              "      <td>NaN</td>\n",
              "    </tr>\n",
              "  </tbody>\n",
              "</table>\n",
              "</div>"
            ],
            "text/plain": [
              "                    area  population  ...  median income  walkability score\n",
              "Beijing         5.040515    5.646869  ...            NaN                NaN\n",
              "Glasgow              NaN         NaN  ...       4.217893           4.646160\n",
              "London          5.058022    5.650540  ...       3.638572           5.491211\n",
              "Medellin        6.166549    3.220089  ...            NaN                NaN\n",
              "Paris           4.866784    3.050303  ...       6.288895           7.096437\n",
              "Port Elizabeth  5.642067    5.922139  ...            NaN                NaN\n",
              "\n",
              "[6 rows x 8 columns]"
            ]
          },
          "metadata": {
            "tags": []
          },
          "execution_count": 42
        }
      ]
    },
    {
      "cell_type": "markdown",
      "metadata": {
        "id": "5CK-JebRJ1eS"
      },
      "source": [
        "'outer' joins the data by keeping all values of both data frames. It would correspond to highlighting the two circles completely in the diagram above.\n",
        "\n"
      ]
    },
    {
      "cell_type": "code",
      "metadata": {
        "id": "JpnddiT9KXOU",
        "colab": {
          "base_uri": "https://localhost:8080/",
          "height": 142
        },
        "outputId": "2ea26bc8-fda6-4a8e-c53e-e01815842e93"
      },
      "source": [
        "df_joined = df1.merge(df5, left_index=True, right_index=True, how='right')\n",
        "df_joined"
      ],
      "execution_count": null,
      "outputs": [
        {
          "output_type": "execute_result",
          "data": {
            "text/html": [
              "<div>\n",
              "<style scoped>\n",
              "    .dataframe tbody tr th:only-of-type {\n",
              "        vertical-align: middle;\n",
              "    }\n",
              "\n",
              "    .dataframe tbody tr th {\n",
              "        vertical-align: top;\n",
              "    }\n",
              "\n",
              "    .dataframe thead th {\n",
              "        text-align: right;\n",
              "    }\n",
              "</style>\n",
              "<table border=\"1\" class=\"dataframe\">\n",
              "  <thead>\n",
              "    <tr style=\"text-align: right;\">\n",
              "      <th></th>\n",
              "      <th>area</th>\n",
              "      <th>population</th>\n",
              "      <th>mean temperature</th>\n",
              "      <th>elevation</th>\n",
              "      <th>annual rainfall</th>\n",
              "      <th>Mean House Price</th>\n",
              "      <th>median income</th>\n",
              "      <th>walkability score</th>\n",
              "    </tr>\n",
              "  </thead>\n",
              "  <tbody>\n",
              "    <tr>\n",
              "      <th>London</th>\n",
              "      <td>5.058022</td>\n",
              "      <td>5.650540</td>\n",
              "      <td>5.999615</td>\n",
              "      <td>5.731714</td>\n",
              "      <td>5.314377</td>\n",
              "      <td>4.863221</td>\n",
              "      <td>3.638572</td>\n",
              "      <td>5.491211</td>\n",
              "    </tr>\n",
              "    <tr>\n",
              "      <th>Paris</th>\n",
              "      <td>4.866784</td>\n",
              "      <td>3.050303</td>\n",
              "      <td>4.117971</td>\n",
              "      <td>3.459899</td>\n",
              "      <td>5.316174</td>\n",
              "      <td>5.304988</td>\n",
              "      <td>6.288895</td>\n",
              "      <td>7.096437</td>\n",
              "    </tr>\n",
              "    <tr>\n",
              "      <th>Glasgow</th>\n",
              "      <td>NaN</td>\n",
              "      <td>NaN</td>\n",
              "      <td>NaN</td>\n",
              "      <td>NaN</td>\n",
              "      <td>NaN</td>\n",
              "      <td>4.587733</td>\n",
              "      <td>4.217893</td>\n",
              "      <td>4.646160</td>\n",
              "    </tr>\n",
              "  </tbody>\n",
              "</table>\n",
              "</div>"
            ],
            "text/plain": [
              "             area  population  ...  median income  walkability score\n",
              "London   5.058022    5.650540  ...       3.638572           5.491211\n",
              "Paris    4.866784    3.050303  ...       6.288895           7.096437\n",
              "Glasgow       NaN         NaN  ...       4.217893           4.646160\n",
              "\n",
              "[3 rows x 8 columns]"
            ]
          },
          "metadata": {
            "tags": []
          },
          "execution_count": 43
        }
      ]
    },
    {
      "cell_type": "markdown",
      "metadata": {
        "id": "-GqbGmCMKo9i"
      },
      "source": [
        "'right', in our case, joins the data by only selecting the cities that appear in both data frames. This would correspond to the entire circle on the right being highlighted in the diagram above."
      ]
    },
    {
      "cell_type": "markdown",
      "metadata": {
        "id": "6Kw7EO9pS6jC"
      },
      "source": [
        "## I Am The One and Only\n",
        "\n",
        "So far, we've carried out joins on data which have a *one-to-one* relationship; data for cities or people. What if our data has a *one-to-many* correspondence? \n",
        "\n",
        "*Example:* We want to look at the quality of life in cities (a real student project from 2014). We have a dataset listing city-level characteristics for a number of cities in Europe, including the country each city is in. We also have a dataset listing the GDP, life expectancy and other indicators for a number of *countries* in Europe. How do we create a dataframe which, for each city, lists all of the characteristics of a city and those of its parent country?"
      ]
    },
    {
      "cell_type": "markdown",
      "metadata": {
        "id": "FBuvIDuUS6jC"
      },
      "source": [
        "We'll be working now with data from the UN, covering information about cities - real data this time. The UN has some great data, we've taken some from here and processed it in various ways:\n",
        "\n",
        "http://data.un.org/Data.aspx?d=POP&f=tableCode%3A240\n",
        "\n",
        "Let's load up data on city population - this set contains data for 2012-2014 inclusive:"
      ]
    },
    {
      "cell_type": "code",
      "metadata": {
        "id": "OT9bs-RKS6jD"
      },
      "source": [
        "data_path = \"./data/wk3/UN_Cities_1214_population.csv\"\n",
        "\n",
        "city_pop = pd.read_csv(data_path, encoding='latin1')"
      ],
      "execution_count": null,
      "outputs": []
    },
    {
      "cell_type": "code",
      "metadata": {
        "id": "KrxMQsfcS6jF",
        "colab": {
          "base_uri": "https://localhost:8080/",
          "height": 204
        },
        "outputId": "48319cdf-c647-4976-e393-70fabfb33646"
      },
      "source": [
        "city_pop.head()"
      ],
      "execution_count": null,
      "outputs": [
        {
          "output_type": "execute_result",
          "data": {
            "text/html": [
              "<div>\n",
              "<style scoped>\n",
              "    .dataframe tbody tr th:only-of-type {\n",
              "        vertical-align: middle;\n",
              "    }\n",
              "\n",
              "    .dataframe tbody tr th {\n",
              "        vertical-align: top;\n",
              "    }\n",
              "\n",
              "    .dataframe thead th {\n",
              "        text-align: right;\n",
              "    }\n",
              "</style>\n",
              "<table border=\"1\" class=\"dataframe\">\n",
              "  <thead>\n",
              "    <tr style=\"text-align: right;\">\n",
              "      <th></th>\n",
              "      <th>Year</th>\n",
              "      <th>Area</th>\n",
              "      <th>Sex</th>\n",
              "      <th>City</th>\n",
              "      <th>City type</th>\n",
              "      <th>Record Type</th>\n",
              "      <th>Reliability</th>\n",
              "      <th>Source Year</th>\n",
              "      <th>Value</th>\n",
              "      <th>Value Footnotes</th>\n",
              "    </tr>\n",
              "  </thead>\n",
              "  <tbody>\n",
              "    <tr>\n",
              "      <th>0</th>\n",
              "      <td>2013</td>\n",
              "      <td>Total</td>\n",
              "      <td>Both Sexes</td>\n",
              "      <td>MARIEHAMN</td>\n",
              "      <td>City proper</td>\n",
              "      <td>Estimate - de jure</td>\n",
              "      <td>Final figure, complete</td>\n",
              "      <td>2014</td>\n",
              "      <td>11370.0</td>\n",
              "      <td>NaN</td>\n",
              "    </tr>\n",
              "    <tr>\n",
              "      <th>1</th>\n",
              "      <td>2013</td>\n",
              "      <td>Total</td>\n",
              "      <td>Male</td>\n",
              "      <td>MARIEHAMN</td>\n",
              "      <td>City proper</td>\n",
              "      <td>Estimate - de jure</td>\n",
              "      <td>Final figure, complete</td>\n",
              "      <td>2014</td>\n",
              "      <td>5445.0</td>\n",
              "      <td>NaN</td>\n",
              "    </tr>\n",
              "    <tr>\n",
              "      <th>2</th>\n",
              "      <td>2013</td>\n",
              "      <td>Total</td>\n",
              "      <td>Female</td>\n",
              "      <td>MARIEHAMN</td>\n",
              "      <td>City proper</td>\n",
              "      <td>Estimate - de jure</td>\n",
              "      <td>Final figure, complete</td>\n",
              "      <td>2014</td>\n",
              "      <td>5925.0</td>\n",
              "      <td>NaN</td>\n",
              "    </tr>\n",
              "    <tr>\n",
              "      <th>3</th>\n",
              "      <td>2012</td>\n",
              "      <td>Total</td>\n",
              "      <td>Both Sexes</td>\n",
              "      <td>MARIEHAMN</td>\n",
              "      <td>City proper</td>\n",
              "      <td>Estimate - de jure</td>\n",
              "      <td>Final figure, complete</td>\n",
              "      <td>2013</td>\n",
              "      <td>11304.5</td>\n",
              "      <td>NaN</td>\n",
              "    </tr>\n",
              "    <tr>\n",
              "      <th>4</th>\n",
              "      <td>2012</td>\n",
              "      <td>Total</td>\n",
              "      <td>Male</td>\n",
              "      <td>MARIEHAMN</td>\n",
              "      <td>City proper</td>\n",
              "      <td>Estimate - de jure</td>\n",
              "      <td>Final figure, complete</td>\n",
              "      <td>2013</td>\n",
              "      <td>5408.0</td>\n",
              "      <td>NaN</td>\n",
              "    </tr>\n",
              "  </tbody>\n",
              "</table>\n",
              "</div>"
            ],
            "text/plain": [
              "   Year   Area         Sex  ... Source Year    Value Value Footnotes\n",
              "0  2013  Total  Both Sexes  ...        2014  11370.0             NaN\n",
              "1  2013  Total        Male  ...        2014   5445.0             NaN\n",
              "2  2013  Total      Female  ...        2014   5925.0             NaN\n",
              "3  2012  Total  Both Sexes  ...        2013  11304.5             NaN\n",
              "4  2012  Total        Male  ...        2013   5408.0             NaN\n",
              "\n",
              "[5 rows x 10 columns]"
            ]
          },
          "metadata": {
            "tags": []
          },
          "execution_count": 45
        }
      ]
    },
    {
      "cell_type": "markdown",
      "metadata": {
        "id": "hOKGwwvbS6jH"
      },
      "source": [
        "## Exercise\n",
        "\n",
        "There is a another datafile we downloaded called *UN_Cities_1214_country.csv*. This is saved to *./data/wk3/UN_Cities_1214_country.csv* - Load this into a dataframe called *city_c* with the city name as the index and view it; then, using *merge* on city name with city_pop to create a new dataframe called *cities*.\n",
        "\n",
        "**Hints:**\n",
        "You'll notice that the index **won't** be the column you want to merge on in the city_pop data. What column *should* you merge on in city_pop? Which column should you merge on in city_c?\n",
        "\n",
        "The syntax for merging on a **column** (which is not the index) is to pass the column name to the optional 'left_on=' or 'right_on=' arguments. And we don't use right_index=True (or left_index=True), depending on which we're using.\n",
        "\n",
        "So for example: **df1.merge(df2, left_on='Name', right_index=True)** would join df1 (on the left) to df2 (on the right), using the column 'Name' on the left (df1) and the index column (whatever that is) on the right (df2)."
      ]
    },
    {
      "cell_type": "code",
      "metadata": {
        "id": "hbQwHwaSS6jH",
        "colab": {
          "base_uri": "https://localhost:8080/",
          "height": 450
        },
        "outputId": "a95f345b-6f77-405a-d7d1-bad1f68cfb59"
      },
      "source": [
        "data_path = \"./data/wk3/UN_Cities_1214_country.csv\"\n",
        "city_c = pd.read_csv(data_path, encoding = 'latin-1')\n",
        "cities = city_pop.merge(city_c, left_on = 'City', right_on = 'City', how='outer')\n",
        "cities.set_index('City')"
      ],
      "execution_count": null,
      "outputs": [
        {
          "output_type": "execute_result",
          "data": {
            "text/html": [
              "<div>\n",
              "<style scoped>\n",
              "    .dataframe tbody tr th:only-of-type {\n",
              "        vertical-align: middle;\n",
              "    }\n",
              "\n",
              "    .dataframe tbody tr th {\n",
              "        vertical-align: top;\n",
              "    }\n",
              "\n",
              "    .dataframe thead th {\n",
              "        text-align: right;\n",
              "    }\n",
              "</style>\n",
              "<table border=\"1\" class=\"dataframe\">\n",
              "  <thead>\n",
              "    <tr style=\"text-align: right;\">\n",
              "      <th></th>\n",
              "      <th>Year</th>\n",
              "      <th>Area</th>\n",
              "      <th>Sex</th>\n",
              "      <th>City type</th>\n",
              "      <th>Record Type</th>\n",
              "      <th>Reliability</th>\n",
              "      <th>Source Year</th>\n",
              "      <th>Value</th>\n",
              "      <th>Value Footnotes</th>\n",
              "      <th>Country or Area</th>\n",
              "    </tr>\n",
              "    <tr>\n",
              "      <th>City</th>\n",
              "      <th></th>\n",
              "      <th></th>\n",
              "      <th></th>\n",
              "      <th></th>\n",
              "      <th></th>\n",
              "      <th></th>\n",
              "      <th></th>\n",
              "      <th></th>\n",
              "      <th></th>\n",
              "      <th></th>\n",
              "    </tr>\n",
              "  </thead>\n",
              "  <tbody>\n",
              "    <tr>\n",
              "      <th>MARIEHAMN</th>\n",
              "      <td>2013.0</td>\n",
              "      <td>Total</td>\n",
              "      <td>Both Sexes</td>\n",
              "      <td>City proper</td>\n",
              "      <td>Estimate - de jure</td>\n",
              "      <td>Final figure, complete</td>\n",
              "      <td>2014.0</td>\n",
              "      <td>11370.0</td>\n",
              "      <td>NaN</td>\n",
              "      <td>íland Islands</td>\n",
              "    </tr>\n",
              "    <tr>\n",
              "      <th>MARIEHAMN</th>\n",
              "      <td>2013.0</td>\n",
              "      <td>Total</td>\n",
              "      <td>Male</td>\n",
              "      <td>City proper</td>\n",
              "      <td>Estimate - de jure</td>\n",
              "      <td>Final figure, complete</td>\n",
              "      <td>2014.0</td>\n",
              "      <td>5445.0</td>\n",
              "      <td>NaN</td>\n",
              "      <td>íland Islands</td>\n",
              "    </tr>\n",
              "    <tr>\n",
              "      <th>MARIEHAMN</th>\n",
              "      <td>2013.0</td>\n",
              "      <td>Total</td>\n",
              "      <td>Female</td>\n",
              "      <td>City proper</td>\n",
              "      <td>Estimate - de jure</td>\n",
              "      <td>Final figure, complete</td>\n",
              "      <td>2014.0</td>\n",
              "      <td>5925.0</td>\n",
              "      <td>NaN</td>\n",
              "      <td>íland Islands</td>\n",
              "    </tr>\n",
              "    <tr>\n",
              "      <th>MARIEHAMN</th>\n",
              "      <td>2012.0</td>\n",
              "      <td>Total</td>\n",
              "      <td>Both Sexes</td>\n",
              "      <td>City proper</td>\n",
              "      <td>Estimate - de jure</td>\n",
              "      <td>Final figure, complete</td>\n",
              "      <td>2013.0</td>\n",
              "      <td>11304.5</td>\n",
              "      <td>NaN</td>\n",
              "      <td>íland Islands</td>\n",
              "    </tr>\n",
              "    <tr>\n",
              "      <th>MARIEHAMN</th>\n",
              "      <td>2012.0</td>\n",
              "      <td>Total</td>\n",
              "      <td>Male</td>\n",
              "      <td>City proper</td>\n",
              "      <td>Estimate - de jure</td>\n",
              "      <td>Final figure, complete</td>\n",
              "      <td>2013.0</td>\n",
              "      <td>5408.0</td>\n",
              "      <td>NaN</td>\n",
              "      <td>íland Islands</td>\n",
              "    </tr>\n",
              "    <tr>\n",
              "      <th>...</th>\n",
              "      <td>...</td>\n",
              "      <td>...</td>\n",
              "      <td>...</td>\n",
              "      <td>...</td>\n",
              "      <td>...</td>\n",
              "      <td>...</td>\n",
              "      <td>...</td>\n",
              "      <td>...</td>\n",
              "      <td>...</td>\n",
              "      <td>...</td>\n",
              "    </tr>\n",
              "    <tr>\n",
              "      <th>Dí_zce</th>\n",
              "      <td>NaN</td>\n",
              "      <td>NaN</td>\n",
              "      <td>NaN</td>\n",
              "      <td>NaN</td>\n",
              "      <td>NaN</td>\n",
              "      <td>NaN</td>\n",
              "      <td>NaN</td>\n",
              "      <td>NaN</td>\n",
              "      <td>NaN</td>\n",
              "      <td>Turkey</td>\n",
              "    </tr>\n",
              "    <tr>\n",
              "      <th>Inegí_l</th>\n",
              "      <td>NaN</td>\n",
              "      <td>NaN</td>\n",
              "      <td>NaN</td>\n",
              "      <td>NaN</td>\n",
              "      <td>NaN</td>\n",
              "      <td>NaN</td>\n",
              "      <td>NaN</td>\n",
              "      <td>NaN</td>\n",
              "      <td>NaN</td>\n",
              "      <td>Turkey</td>\n",
              "    </tr>\n",
              "    <tr>\n",
              "      <th>Karabí_k</th>\n",
              "      <td>NaN</td>\n",
              "      <td>NaN</td>\n",
              "      <td>NaN</td>\n",
              "      <td>NaN</td>\n",
              "      <td>NaN</td>\n",
              "      <td>NaN</td>\n",
              "      <td>NaN</td>\n",
              "      <td>NaN</td>\n",
              "      <td>NaN</td>\n",
              "      <td>Turkey</td>\n",
              "    </tr>\n",
              "    <tr>\n",
              "      <th>Kí_tahya</th>\n",
              "      <td>NaN</td>\n",
              "      <td>NaN</td>\n",
              "      <td>NaN</td>\n",
              "      <td>NaN</td>\n",
              "      <td>NaN</td>\n",
              "      <td>NaN</td>\n",
              "      <td>NaN</td>\n",
              "      <td>NaN</td>\n",
              "      <td>NaN</td>\n",
              "      <td>Turkey</td>\n",
              "    </tr>\n",
              "    <tr>\n",
              "      <th>Lí_leburgaz</th>\n",
              "      <td>NaN</td>\n",
              "      <td>NaN</td>\n",
              "      <td>NaN</td>\n",
              "      <td>NaN</td>\n",
              "      <td>NaN</td>\n",
              "      <td>NaN</td>\n",
              "      <td>NaN</td>\n",
              "      <td>NaN</td>\n",
              "      <td>NaN</td>\n",
              "      <td>Turkey</td>\n",
              "    </tr>\n",
              "  </tbody>\n",
              "</table>\n",
              "<p>4714 rows × 10 columns</p>\n",
              "</div>"
            ],
            "text/plain": [
              "               Year   Area         Sex  ...    Value Value Footnotes Country or Area\n",
              "City                                    ...                                         \n",
              "MARIEHAMN    2013.0  Total  Both Sexes  ...  11370.0             NaN  íland Islands\n",
              "MARIEHAMN    2013.0  Total        Male  ...   5445.0             NaN  íland Islands\n",
              "MARIEHAMN    2013.0  Total      Female  ...   5925.0             NaN  íland Islands\n",
              "MARIEHAMN    2012.0  Total  Both Sexes  ...  11304.5             NaN  íland Islands\n",
              "MARIEHAMN    2012.0  Total        Male  ...   5408.0             NaN  íland Islands\n",
              "...             ...    ...         ...  ...      ...             ...             ...\n",
              "Dí_zce          NaN    NaN         NaN  ...      NaN             NaN          Turkey\n",
              "Inegí_l         NaN    NaN         NaN  ...      NaN             NaN          Turkey\n",
              "Karabí_k        NaN    NaN         NaN  ...      NaN             NaN          Turkey\n",
              "Kí_tahya        NaN    NaN         NaN  ...      NaN             NaN          Turkey\n",
              "Lí_leburgaz     NaN    NaN         NaN  ...      NaN             NaN          Turkey\n",
              "\n",
              "[4714 rows x 10 columns]"
            ]
          },
          "metadata": {
            "tags": []
          },
          "execution_count": 56
        }
      ]
    },
    {
      "cell_type": "markdown",
      "metadata": {
        "id": "CPb3I6u1S6jJ"
      },
      "source": [
        "## A footnote about footnotes\n",
        "\n",
        "Just a quick note - if you look at the primary UN data, you'll see footnotes which will confuse the hell out of Pandas. I've taken the footnotes out, but you can use .tail() to see whether there's any junk in the trunk, and remove it via a text editor."
      ]
    },
    {
      "cell_type": "markdown",
      "metadata": {
        "id": "4mRhI_8mS6jJ"
      },
      "source": [
        "## Clean data\n",
        "We need to simplify this data a bit in the following ways:\n",
        "\n",
        "1. I'm going to focus on one year (2012)\n",
        "2. I'm going to just look at \"Both Sexes\" (not focus on one gender)\n",
        "3. I'm going to get rid of a column of data (the 'Value Footnotes' column) using the *drop()* method. "
      ]
    },
    {
      "cell_type": "code",
      "metadata": {
        "id": "tI1T3tHxS6jK"
      },
      "source": [
        "cities = cities[cities['Sex']=='Both Sexes']\n",
        "cities = cities[cities['Year']==2012]\n",
        "cities.drop('Value Footnotes', axis=1, inplace=True)"
      ],
      "execution_count": null,
      "outputs": []
    },
    {
      "cell_type": "code",
      "metadata": {
        "id": "Vq5LWR9WS6jM",
        "colab": {
          "base_uri": "https://localhost:8080/",
          "height": 204
        },
        "outputId": "dce24880-3a46-4bdc-80fc-aa884ac24ad6"
      },
      "source": [
        "cities.head()"
      ],
      "execution_count": null,
      "outputs": [
        {
          "output_type": "execute_result",
          "data": {
            "text/html": [
              "<div>\n",
              "<style scoped>\n",
              "    .dataframe tbody tr th:only-of-type {\n",
              "        vertical-align: middle;\n",
              "    }\n",
              "\n",
              "    .dataframe tbody tr th {\n",
              "        vertical-align: top;\n",
              "    }\n",
              "\n",
              "    .dataframe thead th {\n",
              "        text-align: right;\n",
              "    }\n",
              "</style>\n",
              "<table border=\"1\" class=\"dataframe\">\n",
              "  <thead>\n",
              "    <tr style=\"text-align: right;\">\n",
              "      <th></th>\n",
              "      <th>Year</th>\n",
              "      <th>Area</th>\n",
              "      <th>Sex</th>\n",
              "      <th>City</th>\n",
              "      <th>City type</th>\n",
              "      <th>Record Type</th>\n",
              "      <th>Reliability</th>\n",
              "      <th>Source Year</th>\n",
              "      <th>Value</th>\n",
              "      <th>Country or Area</th>\n",
              "    </tr>\n",
              "  </thead>\n",
              "  <tbody>\n",
              "    <tr>\n",
              "      <th>3</th>\n",
              "      <td>2012.0</td>\n",
              "      <td>Total</td>\n",
              "      <td>Both Sexes</td>\n",
              "      <td>MARIEHAMN</td>\n",
              "      <td>City proper</td>\n",
              "      <td>Estimate - de jure</td>\n",
              "      <td>Final figure, complete</td>\n",
              "      <td>2013.0</td>\n",
              "      <td>11304.5</td>\n",
              "      <td>íland Islands</td>\n",
              "    </tr>\n",
              "    <tr>\n",
              "      <th>7</th>\n",
              "      <td>2012.0</td>\n",
              "      <td>Total</td>\n",
              "      <td>Both Sexes</td>\n",
              "      <td>BahÌ_a Blanca-Cerri</td>\n",
              "      <td>Urban agglomeration</td>\n",
              "      <td>Estimate - de facto</td>\n",
              "      <td>Final figure, complete</td>\n",
              "      <td>2012.0</td>\n",
              "      <td>314948.0</td>\n",
              "      <td>NaN</td>\n",
              "    </tr>\n",
              "    <tr>\n",
              "      <th>9</th>\n",
              "      <td>2012.0</td>\n",
              "      <td>Total</td>\n",
              "      <td>Both Sexes</td>\n",
              "      <td>BUENOS AIRES</td>\n",
              "      <td>Urban agglomeration</td>\n",
              "      <td>Estimate - de facto</td>\n",
              "      <td>Final figure, complete</td>\n",
              "      <td>2012.0</td>\n",
              "      <td>13242375.0</td>\n",
              "      <td>Argentina</td>\n",
              "    </tr>\n",
              "    <tr>\n",
              "      <th>11</th>\n",
              "      <td>2012.0</td>\n",
              "      <td>Total</td>\n",
              "      <td>Both Sexes</td>\n",
              "      <td>Catamarca</td>\n",
              "      <td>Urban agglomeration</td>\n",
              "      <td>Estimate - de facto</td>\n",
              "      <td>Final figure, complete</td>\n",
              "      <td>2012.0</td>\n",
              "      <td>212174.0</td>\n",
              "      <td>Argentina</td>\n",
              "    </tr>\n",
              "    <tr>\n",
              "      <th>13</th>\n",
              "      <td>2012.0</td>\n",
              "      <td>Total</td>\n",
              "      <td>Both Sexes</td>\n",
              "      <td>Comodoro Rivadavia-Rada Tilly</td>\n",
              "      <td>Urban agglomeration</td>\n",
              "      <td>Estimate - de facto</td>\n",
              "      <td>Final figure, complete</td>\n",
              "      <td>2012.0</td>\n",
              "      <td>145475.0</td>\n",
              "      <td>Argentina</td>\n",
              "    </tr>\n",
              "  </tbody>\n",
              "</table>\n",
              "</div>"
            ],
            "text/plain": [
              "      Year   Area         Sex  ... Source Year       Value Country or Area\n",
              "3   2012.0  Total  Both Sexes  ...      2013.0     11304.5  íland Islands\n",
              "7   2012.0  Total  Both Sexes  ...      2012.0    314948.0             NaN\n",
              "9   2012.0  Total  Both Sexes  ...      2012.0  13242375.0       Argentina\n",
              "11  2012.0  Total  Both Sexes  ...      2012.0    212174.0       Argentina\n",
              "13  2012.0  Total  Both Sexes  ...      2012.0    145475.0       Argentina\n",
              "\n",
              "[5 rows x 10 columns]"
            ]
          },
          "metadata": {
            "tags": []
          },
          "execution_count": 58
        }
      ]
    },
    {
      "cell_type": "markdown",
      "metadata": {
        "id": "l_hXvqvdS6jO"
      },
      "source": [
        "## Extension: In My Place\n",
        "\n",
        "The command I used to get rid of that column is *cities.drop('Value Footnotes', axis=1, inplace=True)*. The syntax is not so complex - the first argument, *'Value Footnotes'*, is just the name of the column; the second argument,  *axis=1*, tells Pandas to look for a column to remove (instead of a row which has *axis=0*); the third and final argument, *inplace=True*, is a command that tells Pandas to edit *inplace*, i.e. to edit the dataframe (*cities*) directly. When *inplace* is False (the default), this command does not directly edit cities, but instead provide an output. So the syntax for that would be \n",
        "\n",
        "new_cities = cities.drop('Value Footnotes', axis=1)\n",
        "\n",
        "and new_cities would be a version of *cities* without the offending column. This is usually the safer option."
      ]
    },
    {
      "cell_type": "markdown",
      "metadata": {
        "id": "3Z5yN-D6S6jO"
      },
      "source": [
        "## Life, Oh Life\n",
        "\n",
        "The UN also has useful data by country, so let's try and work with some of that and join it up with our city data. Let's work with Life Expectancy Data:\n",
        "\n",
        "http://data.un.org/Data.aspx?d=WDI&f=Indicator_Code%3ASP.DYN.LE00.IN"
      ]
    },
    {
      "cell_type": "code",
      "metadata": {
        "id": "xJ3lzAz-S6jO"
      },
      "source": [
        "data_path = \"./data/wk3/UN_Life_all.csv\"\n",
        "life = pd.read_csv(data_path, index_col=0)"
      ],
      "execution_count": null,
      "outputs": []
    },
    {
      "cell_type": "code",
      "metadata": {
        "id": "IA9Jy3xJS6jQ",
        "colab": {
          "base_uri": "https://localhost:8080/",
          "height": 235
        },
        "outputId": "a35b2012-c4ad-4ce8-e5b4-1946bfb15941"
      },
      "source": [
        "life.drop('Value Footnotes', axis=1, inplace=True)\n",
        "life = life[life['Year']==2012]\n",
        "life.head()"
      ],
      "execution_count": null,
      "outputs": [
        {
          "output_type": "execute_result",
          "data": {
            "text/html": [
              "<div>\n",
              "<style scoped>\n",
              "    .dataframe tbody tr th:only-of-type {\n",
              "        vertical-align: middle;\n",
              "    }\n",
              "\n",
              "    .dataframe tbody tr th {\n",
              "        vertical-align: top;\n",
              "    }\n",
              "\n",
              "    .dataframe thead th {\n",
              "        text-align: right;\n",
              "    }\n",
              "</style>\n",
              "<table border=\"1\" class=\"dataframe\">\n",
              "  <thead>\n",
              "    <tr style=\"text-align: right;\">\n",
              "      <th></th>\n",
              "      <th>Year</th>\n",
              "      <th>Life Expectancy</th>\n",
              "    </tr>\n",
              "    <tr>\n",
              "      <th>Country or Area</th>\n",
              "      <th></th>\n",
              "      <th></th>\n",
              "    </tr>\n",
              "  </thead>\n",
              "  <tbody>\n",
              "    <tr>\n",
              "      <th>Afghanistan</th>\n",
              "      <td>2012</td>\n",
              "      <td>60.509122</td>\n",
              "    </tr>\n",
              "    <tr>\n",
              "      <th>Albania</th>\n",
              "      <td>2012</td>\n",
              "      <td>77.350463</td>\n",
              "    </tr>\n",
              "    <tr>\n",
              "      <th>Algeria</th>\n",
              "      <td>2012</td>\n",
              "      <td>70.882171</td>\n",
              "    </tr>\n",
              "    <tr>\n",
              "      <th>Angola</th>\n",
              "      <td>2012</td>\n",
              "      <td>51.464000</td>\n",
              "    </tr>\n",
              "    <tr>\n",
              "      <th>Antigua and Barbuda</th>\n",
              "      <td>2012</td>\n",
              "      <td>75.665317</td>\n",
              "    </tr>\n",
              "  </tbody>\n",
              "</table>\n",
              "</div>"
            ],
            "text/plain": [
              "                     Year  Life Expectancy\n",
              "Country or Area                           \n",
              "Afghanistan          2012        60.509122\n",
              "Albania              2012        77.350463\n",
              "Algeria              2012        70.882171\n",
              "Angola               2012        51.464000\n",
              "Antigua and Barbuda  2012        75.665317"
            ]
          },
          "metadata": {
            "tags": []
          },
          "execution_count": 67
        }
      ]
    },
    {
      "cell_type": "markdown",
      "metadata": {
        "id": "je4DUR8LS6jS"
      },
      "source": [
        "## Exercise:\n",
        "\n",
        "In a new cell, clean up the above dataframe by\n",
        "\n",
        "- removing the \"Value Footnotes\" Column\n",
        "- use only the most recent data (2012)"
      ]
    },
    {
      "cell_type": "markdown",
      "metadata": {
        "id": "2se0IelGS6jS"
      },
      "source": [
        "Let's make it a little clearer what \"Value\" refers to, by renaming the column. This is one way to do that:"
      ]
    },
    {
      "cell_type": "code",
      "metadata": {
        "id": "234BRNRyS6jS"
      },
      "source": [
        "life.rename(columns={'Value':'Life Expectancy'}, inplace=True)"
      ],
      "execution_count": null,
      "outputs": []
    },
    {
      "cell_type": "code",
      "metadata": {
        "id": "Lb01c6upS6jV",
        "colab": {
          "base_uri": "https://localhost:8080/",
          "height": 235
        },
        "outputId": "db24c3db-49d3-4200-f501-17a35af5a5b8"
      },
      "source": [
        "life.head()"
      ],
      "execution_count": null,
      "outputs": [
        {
          "output_type": "execute_result",
          "data": {
            "text/html": [
              "<div>\n",
              "<style scoped>\n",
              "    .dataframe tbody tr th:only-of-type {\n",
              "        vertical-align: middle;\n",
              "    }\n",
              "\n",
              "    .dataframe tbody tr th {\n",
              "        vertical-align: top;\n",
              "    }\n",
              "\n",
              "    .dataframe thead th {\n",
              "        text-align: right;\n",
              "    }\n",
              "</style>\n",
              "<table border=\"1\" class=\"dataframe\">\n",
              "  <thead>\n",
              "    <tr style=\"text-align: right;\">\n",
              "      <th></th>\n",
              "      <th>Year</th>\n",
              "      <th>Life Expectancy</th>\n",
              "    </tr>\n",
              "    <tr>\n",
              "      <th>Country or Area</th>\n",
              "      <th></th>\n",
              "      <th></th>\n",
              "    </tr>\n",
              "  </thead>\n",
              "  <tbody>\n",
              "    <tr>\n",
              "      <th>Afghanistan</th>\n",
              "      <td>2012</td>\n",
              "      <td>60.509122</td>\n",
              "    </tr>\n",
              "    <tr>\n",
              "      <th>Albania</th>\n",
              "      <td>2012</td>\n",
              "      <td>77.350463</td>\n",
              "    </tr>\n",
              "    <tr>\n",
              "      <th>Algeria</th>\n",
              "      <td>2012</td>\n",
              "      <td>70.882171</td>\n",
              "    </tr>\n",
              "    <tr>\n",
              "      <th>Angola</th>\n",
              "      <td>2012</td>\n",
              "      <td>51.464000</td>\n",
              "    </tr>\n",
              "    <tr>\n",
              "      <th>Antigua and Barbuda</th>\n",
              "      <td>2012</td>\n",
              "      <td>75.665317</td>\n",
              "    </tr>\n",
              "  </tbody>\n",
              "</table>\n",
              "</div>"
            ],
            "text/plain": [
              "                     Year  Life Expectancy\n",
              "Country or Area                           \n",
              "Afghanistan          2012        60.509122\n",
              "Albania              2012        77.350463\n",
              "Algeria              2012        70.882171\n",
              "Angola               2012        51.464000\n",
              "Antigua and Barbuda  2012        75.665317"
            ]
          },
          "metadata": {
            "tags": []
          },
          "execution_count": 69
        }
      ]
    },
    {
      "cell_type": "markdown",
      "metadata": {
        "id": "g6MsCtJwS6jW"
      },
      "source": [
        "# Exercise\n",
        "\n",
        "Now, merge this data with the cities data to show life expectancy for each city (based on the country it is in), and show the first 5 rows. \n",
        "\n",
        "How much data was \"missing\" in the merge?\n",
        "\n",
        "Relabel the City Population column so it's clear what it represents.\n",
        "\n",
        "\n",
        "**Extension:** Plot population against life expectancy. Use plot's *optional arguments* to specify the x column, y column, and that kind='scatter'. \n",
        "\n",
        "**Don't forget to include a title and axis labels!**\n",
        "\n",
        "How does London fit in this trend? What are the problems with doing this?"
      ]
    },
    {
      "cell_type": "code",
      "metadata": {
        "id": "_OXM4uygS6jW",
        "colab": {
          "base_uri": "https://localhost:8080/",
          "height": 204
        },
        "outputId": "57245980-3fce-4629-f0a3-155fd869b49c"
      },
      "source": [
        "smaller_cities_table = cities[['City', 'Country or Area', 'Value']]\n",
        "smaller_life_table = life[['Life Expectancy']]\n",
        "final = smaller_cities_table.merge(smaller_life_table, left_on = 'Country or Area', right_on = 'Country or Area', how ='inner')\n",
        "final.rename(columns={'Value':'Population'}, inplace = True)\n",
        "final.loc[0:4]"
      ],
      "execution_count": null,
      "outputs": [
        {
          "output_type": "execute_result",
          "data": {
            "text/html": [
              "<div>\n",
              "<style scoped>\n",
              "    .dataframe tbody tr th:only-of-type {\n",
              "        vertical-align: middle;\n",
              "    }\n",
              "\n",
              "    .dataframe tbody tr th {\n",
              "        vertical-align: top;\n",
              "    }\n",
              "\n",
              "    .dataframe thead th {\n",
              "        text-align: right;\n",
              "    }\n",
              "</style>\n",
              "<table border=\"1\" class=\"dataframe\">\n",
              "  <thead>\n",
              "    <tr style=\"text-align: right;\">\n",
              "      <th></th>\n",
              "      <th>City</th>\n",
              "      <th>Country or Area</th>\n",
              "      <th>Population</th>\n",
              "      <th>Life Expectancy</th>\n",
              "    </tr>\n",
              "  </thead>\n",
              "  <tbody>\n",
              "    <tr>\n",
              "      <th>0</th>\n",
              "      <td>BUENOS AIRES</td>\n",
              "      <td>Argentina</td>\n",
              "      <td>13242375.0</td>\n",
              "      <td>76.012683</td>\n",
              "    </tr>\n",
              "    <tr>\n",
              "      <th>1</th>\n",
              "      <td>Catamarca</td>\n",
              "      <td>Argentina</td>\n",
              "      <td>212174.0</td>\n",
              "      <td>76.012683</td>\n",
              "    </tr>\n",
              "    <tr>\n",
              "      <th>2</th>\n",
              "      <td>Comodoro Rivadavia-Rada Tilly</td>\n",
              "      <td>Argentina</td>\n",
              "      <td>145475.0</td>\n",
              "      <td>76.012683</td>\n",
              "    </tr>\n",
              "    <tr>\n",
              "      <th>3</th>\n",
              "      <td>Concordia</td>\n",
              "      <td>Argentina</td>\n",
              "      <td>155905.0</td>\n",
              "      <td>76.012683</td>\n",
              "    </tr>\n",
              "    <tr>\n",
              "      <th>4</th>\n",
              "      <td>Corrientes</td>\n",
              "      <td>Argentina</td>\n",
              "      <td>368778.0</td>\n",
              "      <td>76.012683</td>\n",
              "    </tr>\n",
              "  </tbody>\n",
              "</table>\n",
              "</div>"
            ],
            "text/plain": [
              "                            City Country or Area  Population  Life Expectancy\n",
              "0                   BUENOS AIRES       Argentina  13242375.0        76.012683\n",
              "1                      Catamarca       Argentina    212174.0        76.012683\n",
              "2  Comodoro Rivadavia-Rada Tilly       Argentina    145475.0        76.012683\n",
              "3                      Concordia       Argentina    155905.0        76.012683\n",
              "4                     Corrientes       Argentina    368778.0        76.012683"
            ]
          },
          "metadata": {
            "tags": []
          },
          "execution_count": 74
        }
      ]
    },
    {
      "cell_type": "code",
      "metadata": {
        "id": "kXKxu634Ny6M",
        "colab": {
          "base_uri": "https://localhost:8080/",
          "height": 503
        },
        "outputId": "034200b3-51e2-4d1a-ee61-4c3fca3ade47"
      },
      "source": [
        "final.plot('Life Expectancy', \n",
        "           'Population', \n",
        "           'scatter', \n",
        "           figsize = (20,8),\n",
        "           grid = True, \n",
        "           c ='Life Expectancy',\n",
        "           colormap='viridis',\n",
        "           title = 'Population & Life Expectancy Scatter Graph')"
      ],
      "execution_count": null,
      "outputs": [
        {
          "output_type": "execute_result",
          "data": {
            "text/plain": [
              "<matplotlib.axes._subplots.AxesSubplot at 0x7febafe78940>"
            ]
          },
          "metadata": {
            "tags": []
          },
          "execution_count": 79
        },
        {
          "output_type": "display_data",
          "data": {
            "image/png": "[encoded data removed]",
            "text/plain": [
              "<Figure size 1440x576 with 2 Axes>"
            ]
          },
          "metadata": {
            "tags": []
          }
        }
      ]
    },
    {
      "cell_type": "markdown",
      "metadata": {
        "id": "NegFX-rjS6jY"
      },
      "source": [
        "## Recap: Joins\n",
        "\n",
        "Pandas has **four** join methods:\n",
        "\n",
        "    - Left Join: use **only** keys from **left** DataFrame. SQL: [left outer join](http://goo.gl/JICveI)\n",
        "    - Right Join: use **only** keys from **right** DataFrame. SQL: [right outer join](http://goo.gl/TrrHjQ)\n",
        "    - Outer Join: use union of **keys from both** DataFrames. SQL: [full outer join](http://goo.gl/bVRqO8)\n",
        "    - Inner Join: use **intersection of keys** from both DataFrames. SQL: [inner join](http://goo.gl/Cf1MF8)"
      ]
    }
  ]
}